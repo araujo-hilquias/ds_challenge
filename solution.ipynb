{
 "cells": [
  {
   "cell_type": "markdown",
   "metadata": {},
   "source": [
    "Consideraciones iníciales:\n",
    "\n",
    "Infelizmente no consigo escribir correctamente en español. Así que proseguiré con el desafío, escribiendo lo en Inglés."
   ]
  },
  {
   "cell_type": "markdown",
   "metadata": {},
   "source": [
    "# Data Scientist Challenge\n",
    "\n",
    "### Problem\n",
    "\n",
    "The problem consists of predicting the delay probability of flights landing or taking off from Santiago de Chile (SCL). For this purpose, we provide a dataset using public and real data where each row corresponds to a flight that landed or took off from SCL. For each flight the following information is available:\n",
    "\n",
    "- **Fecha-I** : Scheduled date and time of the flight.\n",
    "- **Vlo-I** : Programmed flight number.\n",
    "- **Ori-I** : Programmed origin city code.\n",
    "- **Des-I** : Programmed destination city code.\n",
    "- **Emp-I** : Programmed flight airline code.\n",
    "- **Fecha-O** : Date and time of flight operation.\n",
    "- **Vlo-O** : Flight operation flight number.\n",
    "- **Ori-O** : Operation origin city code.\n",
    "- **Des-O** : Operation destination city code.\n",
    "- **Emp-O** : Operation flight airline code.\n",
    "- **DIA** : Operation day of the month of the flight.\n",
    "- **MES** : Flight operation month number.\n",
    "- **AÑO** : Year of flight operation.\n",
    "- **DIANOM** : Day of week of flight operation.\n",
    "- **TIPOVUELO** : Flight type, I = International, N = National.\n",
    "- **OPERA** : Operation airline name.\n",
    "- **SIGLAORI** : Origin city name.\n",
    "- **SIGLADES** : Destination city name.\n",
    "\n",
    "\n",
    "### Challenge\n",
    "\n",
    "1. How is the data distributed? What catches your attention or what is your conclusion about this?\n",
    "\n",
    "2. Create the following additional columns then export them in a file `synthetic_features.csv`\n",
    "    - **temporada_alta** : `1` if *Fecha-I* is between December 15th and March 3rd, or July 15th and July 31th, or September 11th and September 30, `0` otherwise\n",
    "    - **dif_min** : time difference in minutes between *Fecha-O* and *Fecha-I*\n",
    "    - **atraso_15** : `1` if *dif_min* > 15, `0` otherwise\n",
    "    - **periodo_dia** : `mañana` (between 5:00 and 11:59), `tarde` (between 12:00 and 18:59) and `noche` (between 19:00 and 4:59), based on *Fecha-I*\n",
    "\n",
    "3. How is delay rate composed by destination, airline, month, day of week, season (*temporada_alta*) and flight type? What features would you expect to better predict delay?\n",
    "\n",
    "4. Train one or more models (using algorithms of your choice) to estimate the probability of flight delay. Feel free to create additional variables and/or add external variables.\n",
    "\n",
    "5. Evaluate your model. How did it perform? Which metrics did you use to evaluate it and why? Why did you choose this algorithm in particular? Which features are more important to the prediction? How would you enhance the model performance?\n",
    "\n",
    "\n",
    "### Assumptions\n",
    "\n",
    "- We don't know how this model would be implemented in production. Would it run for each flight right before boarding? Or would it be implemented in order to run daily to all scheduled flights? Or would it run daily predicting delay in all flights scheduled for the next day (or week)? Despite when the model would run, would all operations variables (except `Flecha-O`) be available to the model (`Vlo-O`, `Ori-O`, `Des-O`, `Emp-O`)? We assume that those variables would be available, and we will create some boolean features that checks for inconsistency between scheduled and operation information.\n",
    "\n",
    "\n",
    "### Further discussions\n",
    "\n",
    "- We think that weather would be an important flight characteristic to predict delay. So, in production, collecting weather forecast could be a game changing in predicting delay.\n",
    "\n",
    "- We also think that a flight leaving a certain gate would be influenced by delays in previous flights from the same gate. So this information should be also collected if the model reach production status."
   ]
  },
  {
   "cell_type": "code",
   "execution_count": 174,
   "metadata": {},
   "outputs": [],
   "source": [
    "import pandas as pd\n",
    "from datetime import datetime\n",
    "import matplotlib.patches as mpatches\n",
    "import matplotlib.pyplot as plt\n"
   ]
  },
  {
   "cell_type": "code",
   "execution_count": 175,
   "metadata": {},
   "outputs": [],
   "source": [
    "def translating_data(df):\n",
    "\n",
    "    days_of_week = {\n",
    "        'Lunes' : 'Monday',\n",
    "        'Martes' : 'Tuesday',\n",
    "        'Miercoles' : 'Wednesday',\n",
    "        'Jueves' : 'Thursday',\n",
    "        'Viernes' : 'Friday',\n",
    "        'Sabado' : 'Saturday',\n",
    "        'Domingo' : 'Sunday'\n",
    "    }\n",
    "\n",
    "    columns = [\n",
    "        'datetime_i', 'flight_number_i', 'origin_code_i', 'destination_code_i', 'airline_code_i',\n",
    "        'datetime_o', 'flight_number_o', 'origin_code_o', 'destination_code_o', 'airline_code_o',\n",
    "        'day', 'month', 'year', 'week_day', 'flight_type', 'airline', 'origin', 'destination'\n",
    "    ]\n",
    "\n",
    "    df.columns = columns\n",
    "    df.loc[:, 'week_day'] = df.loc[:, 'week_day'].apply(lambda x: days_of_week[x])\n",
    "\n",
    "    return df"
   ]
  },
  {
   "cell_type": "code",
   "execution_count": 176,
   "metadata": {},
   "outputs": [],
   "source": [
    "def get_treated_data():\n",
    "\n",
    "    flight_data = pd.read_csv('data/dataset_SCL.csv', parse_dates=[0, 5], low_memory=False)\n",
    "    flight_data = translating_data(flight_data)\n",
    "\n",
    "    # We encountered a missing value in flight_number_i and, a non numerical value '989P' and flight_number_o treated as a float in the CSV file\n",
    "    flight_data = flight_data.dropna()\n",
    "    flight_data['flight_number_i'] = flight_data['flight_number_i'].astype(str)\n",
    "    flight_data['flight_number_o'] = flight_data['flight_number_o'].apply(lambda x: str(x).replace('.0', ''))\n",
    "\n",
    "    # It's necessary to create an index that is unique to identify each flight correctly\n",
    "    flight_data['index'] = flight_data['datetime_o'].astype(str) + '_' + flight_data['flight_number_o'] + '_' +\\\n",
    "        flight_data['origin_code_o'] + '_' + flight_data['destination_code_o'] + '_' + flight_data['airline_code_o']\n",
    "    flight_data = flight_data.set_index('index')\n",
    "\n",
    "    return flight_data"
   ]
  },
  {
   "cell_type": "code",
   "execution_count": 177,
   "metadata": {},
   "outputs": [],
   "source": [
    "def creating_synthetic_features(df):\n",
    "\n",
    "    synth_df = df.copy()\n",
    "\n",
    "    # Separating date and time\n",
    "    synth_df['date_i'] = synth_df['datetime_i'].apply(lambda x: str(x.date()))\n",
    "    synth_df['time_i'] = synth_df['datetime_i'].apply(lambda x: str(x.time()))\n",
    "\n",
    "    synth_df['temporada_alta'] = synth_df['date_i'].apply(lambda x: 1 if x[5:] <= '03-03' or (x[5:] >= '07-15' and x[5:] <= '07-31') \\\n",
    "        or (x[5:] >= '09-11' and x[5:] <= '09-30') or x[5:] >= '12-15' else 0)\n",
    "\n",
    "    synth_df['dif_min'] = synth_df['datetime_o'] - synth_df['datetime_i']\n",
    "    synth_df.loc[:, 'dif_min'] = synth_df['dif_min'].apply(lambda x: x.total_seconds()/60).astype(int)\n",
    "\n",
    "    synth_df['atraso_15'] = synth_df['dif_min'] > 15\n",
    "    synth_df['atraso_15'] = synth_df['atraso_15'].astype(int)\n",
    "\n",
    "    synth_df['periodo_dia'] = synth_df['time_i'].apply(lambda x: 'mañana' if x >= '05:00:00' and x < '12:00:00' \\\n",
    "        else 'tarde' if x >= '12:00:00' and x < '19:00:00' else 'noche')\n",
    "\n",
    "    return synth_df[['temporada_alta', 'dif_min', 'atraso_15', 'periodo_dia']]"
   ]
  },
  {
   "cell_type": "code",
   "execution_count": 178,
   "metadata": {},
   "outputs": [],
   "source": [
    "def saving_synthetic_features(synth_df):\n",
    "\n",
    "    synth_df.to_csv('data/synthetic_features.csv')"
   ]
  },
  {
   "cell_type": "code",
   "execution_count": 179,
   "metadata": {},
   "outputs": [
    {
     "data": {
      "text/html": [
       "<div>\n",
       "<style scoped>\n",
       "    .dataframe tbody tr th:only-of-type {\n",
       "        vertical-align: middle;\n",
       "    }\n",
       "\n",
       "    .dataframe tbody tr th {\n",
       "        vertical-align: top;\n",
       "    }\n",
       "\n",
       "    .dataframe thead th {\n",
       "        text-align: right;\n",
       "    }\n",
       "</style>\n",
       "<table border=\"1\" class=\"dataframe\">\n",
       "  <thead>\n",
       "    <tr style=\"text-align: right;\">\n",
       "      <th></th>\n",
       "      <th>datetime_i</th>\n",
       "      <th>flight_number_i</th>\n",
       "      <th>origin_code_i</th>\n",
       "      <th>destination_code_i</th>\n",
       "      <th>airline_code_i</th>\n",
       "      <th>datetime_o</th>\n",
       "      <th>flight_number_o</th>\n",
       "      <th>origin_code_o</th>\n",
       "      <th>destination_code_o</th>\n",
       "      <th>airline_code_o</th>\n",
       "      <th>...</th>\n",
       "      <th>year</th>\n",
       "      <th>week_day</th>\n",
       "      <th>flight_type</th>\n",
       "      <th>airline</th>\n",
       "      <th>origin</th>\n",
       "      <th>destination</th>\n",
       "      <th>temporada_alta</th>\n",
       "      <th>dif_min</th>\n",
       "      <th>atraso_15</th>\n",
       "      <th>periodo_dia</th>\n",
       "    </tr>\n",
       "    <tr>\n",
       "      <th>index</th>\n",
       "      <th></th>\n",
       "      <th></th>\n",
       "      <th></th>\n",
       "      <th></th>\n",
       "      <th></th>\n",
       "      <th></th>\n",
       "      <th></th>\n",
       "      <th></th>\n",
       "      <th></th>\n",
       "      <th></th>\n",
       "      <th></th>\n",
       "      <th></th>\n",
       "      <th></th>\n",
       "      <th></th>\n",
       "      <th></th>\n",
       "      <th></th>\n",
       "      <th></th>\n",
       "      <th></th>\n",
       "      <th></th>\n",
       "      <th></th>\n",
       "      <th></th>\n",
       "    </tr>\n",
       "  </thead>\n",
       "  <tbody>\n",
       "    <tr>\n",
       "      <th>2017-01-01 23:33:00_226_SCEL_KMIA_AAL</th>\n",
       "      <td>2017-01-01 23:30:00</td>\n",
       "      <td>226</td>\n",
       "      <td>SCEL</td>\n",
       "      <td>KMIA</td>\n",
       "      <td>AAL</td>\n",
       "      <td>2017-01-01 23:33:00</td>\n",
       "      <td>226</td>\n",
       "      <td>SCEL</td>\n",
       "      <td>KMIA</td>\n",
       "      <td>AAL</td>\n",
       "      <td>...</td>\n",
       "      <td>2017</td>\n",
       "      <td>Sunday</td>\n",
       "      <td>I</td>\n",
       "      <td>American Airlines</td>\n",
       "      <td>Santiago</td>\n",
       "      <td>Miami</td>\n",
       "      <td>1</td>\n",
       "      <td>3</td>\n",
       "      <td>0</td>\n",
       "      <td>noche</td>\n",
       "    </tr>\n",
       "    <tr>\n",
       "      <th>2017-01-02 23:39:00_226_SCEL_KMIA_AAL</th>\n",
       "      <td>2017-01-02 23:30:00</td>\n",
       "      <td>226</td>\n",
       "      <td>SCEL</td>\n",
       "      <td>KMIA</td>\n",
       "      <td>AAL</td>\n",
       "      <td>2017-01-02 23:39:00</td>\n",
       "      <td>226</td>\n",
       "      <td>SCEL</td>\n",
       "      <td>KMIA</td>\n",
       "      <td>AAL</td>\n",
       "      <td>...</td>\n",
       "      <td>2017</td>\n",
       "      <td>Monday</td>\n",
       "      <td>I</td>\n",
       "      <td>American Airlines</td>\n",
       "      <td>Santiago</td>\n",
       "      <td>Miami</td>\n",
       "      <td>1</td>\n",
       "      <td>9</td>\n",
       "      <td>0</td>\n",
       "      <td>noche</td>\n",
       "    </tr>\n",
       "    <tr>\n",
       "      <th>2017-01-03 23:39:00_226_SCEL_KMIA_AAL</th>\n",
       "      <td>2017-01-03 23:30:00</td>\n",
       "      <td>226</td>\n",
       "      <td>SCEL</td>\n",
       "      <td>KMIA</td>\n",
       "      <td>AAL</td>\n",
       "      <td>2017-01-03 23:39:00</td>\n",
       "      <td>226</td>\n",
       "      <td>SCEL</td>\n",
       "      <td>KMIA</td>\n",
       "      <td>AAL</td>\n",
       "      <td>...</td>\n",
       "      <td>2017</td>\n",
       "      <td>Tuesday</td>\n",
       "      <td>I</td>\n",
       "      <td>American Airlines</td>\n",
       "      <td>Santiago</td>\n",
       "      <td>Miami</td>\n",
       "      <td>1</td>\n",
       "      <td>9</td>\n",
       "      <td>0</td>\n",
       "      <td>noche</td>\n",
       "    </tr>\n",
       "    <tr>\n",
       "      <th>2017-01-04 23:33:00_226_SCEL_KMIA_AAL</th>\n",
       "      <td>2017-01-04 23:30:00</td>\n",
       "      <td>226</td>\n",
       "      <td>SCEL</td>\n",
       "      <td>KMIA</td>\n",
       "      <td>AAL</td>\n",
       "      <td>2017-01-04 23:33:00</td>\n",
       "      <td>226</td>\n",
       "      <td>SCEL</td>\n",
       "      <td>KMIA</td>\n",
       "      <td>AAL</td>\n",
       "      <td>...</td>\n",
       "      <td>2017</td>\n",
       "      <td>Wednesday</td>\n",
       "      <td>I</td>\n",
       "      <td>American Airlines</td>\n",
       "      <td>Santiago</td>\n",
       "      <td>Miami</td>\n",
       "      <td>1</td>\n",
       "      <td>3</td>\n",
       "      <td>0</td>\n",
       "      <td>noche</td>\n",
       "    </tr>\n",
       "    <tr>\n",
       "      <th>2017-01-05 23:28:00_226_SCEL_KMIA_AAL</th>\n",
       "      <td>2017-01-05 23:30:00</td>\n",
       "      <td>226</td>\n",
       "      <td>SCEL</td>\n",
       "      <td>KMIA</td>\n",
       "      <td>AAL</td>\n",
       "      <td>2017-01-05 23:28:00</td>\n",
       "      <td>226</td>\n",
       "      <td>SCEL</td>\n",
       "      <td>KMIA</td>\n",
       "      <td>AAL</td>\n",
       "      <td>...</td>\n",
       "      <td>2017</td>\n",
       "      <td>Thursday</td>\n",
       "      <td>I</td>\n",
       "      <td>American Airlines</td>\n",
       "      <td>Santiago</td>\n",
       "      <td>Miami</td>\n",
       "      <td>1</td>\n",
       "      <td>-2</td>\n",
       "      <td>0</td>\n",
       "      <td>noche</td>\n",
       "    </tr>\n",
       "  </tbody>\n",
       "</table>\n",
       "<p>5 rows × 22 columns</p>\n",
       "</div>"
      ],
      "text/plain": [
       "                                               datetime_i flight_number_i  \\\n",
       "index                                                                       \n",
       "2017-01-01 23:33:00_226_SCEL_KMIA_AAL 2017-01-01 23:30:00             226   \n",
       "2017-01-02 23:39:00_226_SCEL_KMIA_AAL 2017-01-02 23:30:00             226   \n",
       "2017-01-03 23:39:00_226_SCEL_KMIA_AAL 2017-01-03 23:30:00             226   \n",
       "2017-01-04 23:33:00_226_SCEL_KMIA_AAL 2017-01-04 23:30:00             226   \n",
       "2017-01-05 23:28:00_226_SCEL_KMIA_AAL 2017-01-05 23:30:00             226   \n",
       "\n",
       "                                      origin_code_i destination_code_i  \\\n",
       "index                                                                    \n",
       "2017-01-01 23:33:00_226_SCEL_KMIA_AAL          SCEL               KMIA   \n",
       "2017-01-02 23:39:00_226_SCEL_KMIA_AAL          SCEL               KMIA   \n",
       "2017-01-03 23:39:00_226_SCEL_KMIA_AAL          SCEL               KMIA   \n",
       "2017-01-04 23:33:00_226_SCEL_KMIA_AAL          SCEL               KMIA   \n",
       "2017-01-05 23:28:00_226_SCEL_KMIA_AAL          SCEL               KMIA   \n",
       "\n",
       "                                      airline_code_i          datetime_o  \\\n",
       "index                                                                      \n",
       "2017-01-01 23:33:00_226_SCEL_KMIA_AAL            AAL 2017-01-01 23:33:00   \n",
       "2017-01-02 23:39:00_226_SCEL_KMIA_AAL            AAL 2017-01-02 23:39:00   \n",
       "2017-01-03 23:39:00_226_SCEL_KMIA_AAL            AAL 2017-01-03 23:39:00   \n",
       "2017-01-04 23:33:00_226_SCEL_KMIA_AAL            AAL 2017-01-04 23:33:00   \n",
       "2017-01-05 23:28:00_226_SCEL_KMIA_AAL            AAL 2017-01-05 23:28:00   \n",
       "\n",
       "                                      flight_number_o origin_code_o  \\\n",
       "index                                                                 \n",
       "2017-01-01 23:33:00_226_SCEL_KMIA_AAL             226          SCEL   \n",
       "2017-01-02 23:39:00_226_SCEL_KMIA_AAL             226          SCEL   \n",
       "2017-01-03 23:39:00_226_SCEL_KMIA_AAL             226          SCEL   \n",
       "2017-01-04 23:33:00_226_SCEL_KMIA_AAL             226          SCEL   \n",
       "2017-01-05 23:28:00_226_SCEL_KMIA_AAL             226          SCEL   \n",
       "\n",
       "                                      destination_code_o airline_code_o  ...  \\\n",
       "index                                                                    ...   \n",
       "2017-01-01 23:33:00_226_SCEL_KMIA_AAL               KMIA            AAL  ...   \n",
       "2017-01-02 23:39:00_226_SCEL_KMIA_AAL               KMIA            AAL  ...   \n",
       "2017-01-03 23:39:00_226_SCEL_KMIA_AAL               KMIA            AAL  ...   \n",
       "2017-01-04 23:33:00_226_SCEL_KMIA_AAL               KMIA            AAL  ...   \n",
       "2017-01-05 23:28:00_226_SCEL_KMIA_AAL               KMIA            AAL  ...   \n",
       "\n",
       "                                       year   week_day  flight_type  \\\n",
       "index                                                                 \n",
       "2017-01-01 23:33:00_226_SCEL_KMIA_AAL  2017     Sunday            I   \n",
       "2017-01-02 23:39:00_226_SCEL_KMIA_AAL  2017     Monday            I   \n",
       "2017-01-03 23:39:00_226_SCEL_KMIA_AAL  2017    Tuesday            I   \n",
       "2017-01-04 23:33:00_226_SCEL_KMIA_AAL  2017  Wednesday            I   \n",
       "2017-01-05 23:28:00_226_SCEL_KMIA_AAL  2017   Thursday            I   \n",
       "\n",
       "                                                 airline    origin  \\\n",
       "index                                                                \n",
       "2017-01-01 23:33:00_226_SCEL_KMIA_AAL  American Airlines  Santiago   \n",
       "2017-01-02 23:39:00_226_SCEL_KMIA_AAL  American Airlines  Santiago   \n",
       "2017-01-03 23:39:00_226_SCEL_KMIA_AAL  American Airlines  Santiago   \n",
       "2017-01-04 23:33:00_226_SCEL_KMIA_AAL  American Airlines  Santiago   \n",
       "2017-01-05 23:28:00_226_SCEL_KMIA_AAL  American Airlines  Santiago   \n",
       "\n",
       "                                      destination temporada_alta dif_min  \\\n",
       "index                                                                      \n",
       "2017-01-01 23:33:00_226_SCEL_KMIA_AAL       Miami              1       3   \n",
       "2017-01-02 23:39:00_226_SCEL_KMIA_AAL       Miami              1       9   \n",
       "2017-01-03 23:39:00_226_SCEL_KMIA_AAL       Miami              1       9   \n",
       "2017-01-04 23:33:00_226_SCEL_KMIA_AAL       Miami              1       3   \n",
       "2017-01-05 23:28:00_226_SCEL_KMIA_AAL       Miami              1      -2   \n",
       "\n",
       "                                       atraso_15  periodo_dia  \n",
       "index                                                          \n",
       "2017-01-01 23:33:00_226_SCEL_KMIA_AAL          0        noche  \n",
       "2017-01-02 23:39:00_226_SCEL_KMIA_AAL          0        noche  \n",
       "2017-01-03 23:39:00_226_SCEL_KMIA_AAL          0        noche  \n",
       "2017-01-04 23:33:00_226_SCEL_KMIA_AAL          0        noche  \n",
       "2017-01-05 23:28:00_226_SCEL_KMIA_AAL          0        noche  \n",
       "\n",
       "[5 rows x 22 columns]"
      ]
     },
     "execution_count": 179,
     "metadata": {},
     "output_type": "execute_result"
    }
   ],
   "source": [
    "df = get_treated_data()\n",
    "synth_df = creating_synthetic_features(df)\n",
    "saving_synthetic_features(synth_df)\n",
    "\n",
    "df = df.merge(right=synth_df, left_index=True, right_index=True)\n",
    "df.head()"
   ]
  },
  {
   "cell_type": "markdown",
   "metadata": {},
   "source": [
    "### Analysing the data\n",
    "\n",
    "1. How is the data distributed? What catches your attention or what is your conclusion about this?\n",
    "\n",
    "We will proceed with the data analysis using synthetic features too, in order to get more information about the dataset."
   ]
  },
  {
   "cell_type": "code",
   "execution_count": 180,
   "metadata": {},
   "outputs": [
    {
     "name": "stdout",
     "output_type": "stream",
     "text": [
      "<class 'pandas.core.frame.DataFrame'>\n",
      "Index: 68205 entries, 2017-01-01 23:33:00_226_SCEL_KMIA_AAL to 2017-12-31 15:04:00_400_SCEL_SPJC_JAT\n",
      "Data columns (total 22 columns):\n",
      " #   Column              Non-Null Count  Dtype         \n",
      "---  ------              --------------  -----         \n",
      " 0   datetime_i          68205 non-null  datetime64[ns]\n",
      " 1   flight_number_i     68205 non-null  object        \n",
      " 2   origin_code_i       68205 non-null  object        \n",
      " 3   destination_code_i  68205 non-null  object        \n",
      " 4   airline_code_i      68205 non-null  object        \n",
      " 5   datetime_o          68205 non-null  datetime64[ns]\n",
      " 6   flight_number_o     68205 non-null  object        \n",
      " 7   origin_code_o       68205 non-null  object        \n",
      " 8   destination_code_o  68205 non-null  object        \n",
      " 9   airline_code_o      68205 non-null  object        \n",
      " 10  day                 68205 non-null  int64         \n",
      " 11  month               68205 non-null  int64         \n",
      " 12  year                68205 non-null  int64         \n",
      " 13  week_day            68205 non-null  object        \n",
      " 14  flight_type         68205 non-null  object        \n",
      " 15  airline             68205 non-null  object        \n",
      " 16  origin              68205 non-null  object        \n",
      " 17  destination         68205 non-null  object        \n",
      " 18  temporada_alta      68205 non-null  int64         \n",
      " 19  dif_min             68205 non-null  int64         \n",
      " 20  atraso_15           68205 non-null  int64         \n",
      " 21  periodo_dia         68205 non-null  object        \n",
      "dtypes: datetime64[ns](2), int64(6), object(14)\n",
      "memory usage: 14.0+ MB\n"
     ]
    }
   ],
   "source": [
    "df.info()"
   ]
  },
  {
   "cell_type": "markdown",
   "metadata": {},
   "source": [
    "We saw 3 \"errors\" while working with the dataset: one missing value and one non numerical record in `flight_number_i`, and a bunch of `flight_number_o` treated as float (example `400.0`) and this is present in the original file (CSV). We dropped the missing data, treated the floating format and we kept the non numerical record in `flight_number_i`.\n",
    "\n",
    "We will proceed with the analysis with the assumption that all the data is good, with no need to worry about the veracity of the information."
   ]
  },
  {
   "cell_type": "code",
   "execution_count": 181,
   "metadata": {},
   "outputs": [
    {
     "data": {
      "text/plain": [
       "flight_number_i  origin_code_i  destination_code_i  airline                 \n",
       "7                SCEL           SCCI                Sky Airline                 365\n",
       "285              SCEL           SCTE                Grupo LATAM                 364\n",
       "190              SCEL           SCAR                Sky Airline                 364\n",
       "273              SCEL           SCTE                Grupo LATAM                 364\n",
       "802              SCEL           SPJC                Sky Airline                 364\n",
       "                                                                               ... \n",
       "503              SCEL           LEMD                Plus Ultra Lineas Aereas      1\n",
       "51               SCEL           SCQP                Grupo LATAM                   1\n",
       "1186             SCEL           SCAR                Grupo LATAM                   1\n",
       "1178             SCEL           SCAR                Grupo LATAM                   1\n",
       "9956             SCEL           SPJC                Grupo LATAM                   1\n",
       "Length: 758, dtype: int64"
      ]
     },
     "execution_count": 181,
     "metadata": {},
     "output_type": "execute_result"
    }
   ],
   "source": [
    "df[['flight_number_i', 'origin_code_i', 'destination_code_i', 'airline']].value_counts()"
   ]
  },
  {
   "cell_type": "code",
   "execution_count": 182,
   "metadata": {},
   "outputs": [
    {
     "data": {
      "text/plain": [
       "<AxesSubplot:>"
      ]
     },
     "execution_count": 182,
     "metadata": {},
     "output_type": "execute_result"
    },
    {
     "data": {
      "image/png": "[encoded data removed]",
      "text/plain": [
       "<Figure size 432x288 with 1 Axes>"
      ]
     },
     "metadata": {
      "needs_background": "light"
     },
     "output_type": "display_data"
    }
   ],
   "source": [
    "df[['flight_number_i', 'origin_code_i', 'destination_code_i', 'airline']].value_counts().hist()"
   ]
  },
  {
   "cell_type": "markdown",
   "metadata": {},
   "source": [
    "Most of the flights are not so frequently. For example, the flight LATAM 9956 from SCEL to SPJC only occurs once in the dataset, while the flight Sky Airline 7 from SCEL to SCCI occurs 365 times in the dataset. Maybe the frequency of the flight might be correlated with delay, but we'll check it later."
   ]
  },
  {
   "cell_type": "code",
   "execution_count": 183,
   "metadata": {},
   "outputs": [
    {
     "data": {
      "text/plain": [
       "True     0.998255\n",
       "False    0.001745\n",
       "dtype: float64"
      ]
     },
     "execution_count": 183,
     "metadata": {},
     "output_type": "execute_result"
    }
   ],
   "source": [
    "(df['flight_number_i'] == df['flight_number_o']).value_counts(normalize=True)"
   ]
  },
  {
   "cell_type": "markdown",
   "metadata": {},
   "source": [
    "Another unexpected finding is that there are some flights with operationing flight number that is different than the schedulled (or programmed) flight number. However, it is a very small fraction (0.1% of all flights), and should not be important to predict fligth delay."
   ]
  },
  {
   "cell_type": "code",
   "execution_count": 184,
   "metadata": {},
   "outputs": [
    {
     "data": {
      "text/plain": [
       "True     68177\n",
       "False       28\n",
       "dtype: int64"
      ]
     },
     "execution_count": 184,
     "metadata": {},
     "output_type": "execute_result"
    }
   ],
   "source": [
    "(df['destination_code_i'] == df['destination_code_o']).value_counts()"
   ]
  },
  {
   "cell_type": "markdown",
   "metadata": {},
   "source": [
    "Another very unexpected finding is that there are 28 flights whose destination city code is different than the programmed one. This also may be correlated to flight delay, but as it's a very rare behavior, it should not be a strong feature to predict flight delay."
   ]
  },
  {
   "cell_type": "code",
   "execution_count": 185,
   "metadata": {},
   "outputs": [
    {
     "data": {
      "text/plain": [
       "True     0.726296\n",
       "False    0.273704\n",
       "dtype: float64"
      ]
     },
     "execution_count": 185,
     "metadata": {},
     "output_type": "execute_result"
    }
   ],
   "source": [
    "(df['airline_code_i'] == df['airline_code_o']).value_counts(normalize=True)"
   ]
  },
  {
   "cell_type": "markdown",
   "metadata": {},
   "source": [
    "Yet another unexpected finding is that 27% of the flights are operated by a different airline than scheduled. We'll find later if this behavior is correlated to flight delay."
   ]
  },
  {
   "cell_type": "code",
   "execution_count": 186,
   "metadata": {},
   "outputs": [
    {
     "data": {
      "text/plain": [
       "Grupo LATAM                 0.599545\n",
       "Sky Airline                 0.209633\n",
       "Aerolineas Argentinas       0.028576\n",
       "Copa Air                    0.027124\n",
       "Latin American Wings        0.024529\n",
       "Avianca                     0.016890\n",
       "JetSmart SPA                0.016055\n",
       "Gol Trans                   0.011817\n",
       "American Airlines           0.011099\n",
       "Air Canada                  0.008284\n",
       "Iberia                      0.005308\n",
       "Delta Air                   0.005249\n",
       "Air France                  0.005249\n",
       "Aeromexico                  0.005146\n",
       "United Airlines             0.004912\n",
       "Oceanair Linhas Aereas      0.004091\n",
       "Alitalia                    0.003797\n",
       "K.L.M.                      0.003680\n",
       "British Airways             0.003006\n",
       "Qantas Airways              0.002859\n",
       "Lacsa                       0.001349\n",
       "Austral                     0.001085\n",
       "Plus Ultra Lineas Aereas    0.000718\n",
       "Name: airline, dtype: float64"
      ]
     },
     "execution_count": 186,
     "metadata": {},
     "output_type": "execute_result"
    }
   ],
   "source": [
    "df['airline'].value_counts(normalize=True)"
   ]
  },
  {
   "cell_type": "markdown",
   "metadata": {},
   "source": [
    "The vast majority of the flights are operated by south american airlines, and LATAM alone sums up to almost 60% of the flights."
   ]
  },
  {
   "cell_type": "code",
   "execution_count": 187,
   "metadata": {},
   "outputs": [
    {
     "data": {
      "text/plain": [
       "tarde     25506\n",
       "mañana    25351\n",
       "noche     17348\n",
       "Name: periodo_dia, dtype: int64"
      ]
     },
     "execution_count": 187,
     "metadata": {},
     "output_type": "execute_result"
    }
   ],
   "source": [
    "df['periodo_dia'].value_counts()"
   ]
  },
  {
   "cell_type": "markdown",
   "metadata": {},
   "source": [
    "As expected, there are less flights taking off at night"
   ]
  },
  {
   "cell_type": "code",
   "execution_count": 188,
   "metadata": {},
   "outputs": [
    {
     "data": {
      "text/plain": [
       "12    0.093190\n",
       "1     0.089539\n",
       "11    0.089143\n",
       "10    0.088439\n",
       "7     0.087853\n",
       "8     0.084217\n",
       "9     0.082252\n",
       "2     0.081534\n",
       "3     0.080375\n",
       "5     0.076827\n",
       "4     0.073602\n",
       "6     0.073030\n",
       "Name: month, dtype: float64"
      ]
     },
     "execution_count": 188,
     "metadata": {},
     "output_type": "execute_result"
    }
   ],
   "source": [
    "df['month'].value_counts(normalize=True)"
   ]
  },
  {
   "cell_type": "markdown",
   "metadata": {},
   "source": [
    "An interesting finding is that October and November have more flights in operation than February, July and September, opposed to what `temporada_alta` suggests."
   ]
  },
  {
   "cell_type": "code",
   "execution_count": 189,
   "metadata": {},
   "outputs": [
    {
     "data": {
      "text/plain": [
       "Friday       0.150898\n",
       "Thursday     0.150282\n",
       "Monday       0.148537\n",
       "Sunday       0.143626\n",
       "Wednesday    0.142541\n",
       "Tuesday      0.141661\n",
       "Saturday     0.122454\n",
       "Name: week_day, dtype: float64"
      ]
     },
     "execution_count": 189,
     "metadata": {},
     "output_type": "execute_result"
    }
   ],
   "source": [
    "df['week_day'].value_counts(normalize=True)"
   ]
  },
  {
   "cell_type": "markdown",
   "metadata": {},
   "source": [
    "There is no significant difference between days of week when comparing number of flights, except Saturday that is 15% smaller than average, but there is no reason so far to expect that this behavior is correlated to flight delay."
   ]
  },
  {
   "cell_type": "markdown",
   "metadata": {},
   "source": [
    "### Analysing the data\n",
    "\n",
    "2. Create additional columns and export them in `synthetic_features.csv`\n",
    "\n",
    "Already done in `creating_synthetic_features` and `saving_synthetic_features` functions. This file is in the folder `data`."
   ]
  },
  {
   "cell_type": "markdown",
   "metadata": {},
   "source": [
    "### Analysing the data\n",
    "\n",
    "3. How is delay rate composed by destination, airline, month, day of week, season (*temporada_alta*) and flight type? What features would you expect to better predict delay?\n"
   ]
  },
  {
   "cell_type": "markdown",
   "metadata": {},
   "source": [
    "#### Destination"
   ]
  },
  {
   "cell_type": "code",
   "execution_count": 190,
   "metadata": {},
   "outputs": [
    {
     "data": {
      "text/html": [
       "<div>\n",
       "<style scoped>\n",
       "    .dataframe tbody tr th:only-of-type {\n",
       "        vertical-align: middle;\n",
       "    }\n",
       "\n",
       "    .dataframe tbody tr th {\n",
       "        vertical-align: top;\n",
       "    }\n",
       "\n",
       "    .dataframe thead th {\n",
       "        text-align: right;\n",
       "    }\n",
       "</style>\n",
       "<table border=\"1\" class=\"dataframe\">\n",
       "  <thead>\n",
       "    <tr style=\"text-align: right;\">\n",
       "      <th></th>\n",
       "      <th>flight_frequency</th>\n",
       "      <th>delay_number</th>\n",
       "      <th>delay_rate</th>\n",
       "    </tr>\n",
       "  </thead>\n",
       "  <tbody>\n",
       "    <tr>\n",
       "      <th>YSSY</th>\n",
       "      <td>195</td>\n",
       "      <td>113</td>\n",
       "      <td>57.948718</td>\n",
       "    </tr>\n",
       "    <tr>\n",
       "      <th>YMML</th>\n",
       "      <td>38</td>\n",
       "      <td>21</td>\n",
       "      <td>55.263158</td>\n",
       "    </tr>\n",
       "    <tr>\n",
       "      <th>SAAR</th>\n",
       "      <td>136</td>\n",
       "      <td>54</td>\n",
       "      <td>39.705882</td>\n",
       "    </tr>\n",
       "    <tr>\n",
       "      <th>NZAA</th>\n",
       "      <td>361</td>\n",
       "      <td>135</td>\n",
       "      <td>37.396122</td>\n",
       "    </tr>\n",
       "    <tr>\n",
       "      <th>MDPC</th>\n",
       "      <td>54</td>\n",
       "      <td>18</td>\n",
       "      <td>33.333333</td>\n",
       "    </tr>\n",
       "    <tr>\n",
       "      <th>CYYZ</th>\n",
       "      <td>283</td>\n",
       "      <td>89</td>\n",
       "      <td>31.448763</td>\n",
       "    </tr>\n",
       "    <tr>\n",
       "      <th>SACO</th>\n",
       "      <td>1023</td>\n",
       "      <td>308</td>\n",
       "      <td>30.107527</td>\n",
       "    </tr>\n",
       "    <tr>\n",
       "      <th>SGAS</th>\n",
       "      <td>232</td>\n",
       "      <td>66</td>\n",
       "      <td>28.448276</td>\n",
       "    </tr>\n",
       "    <tr>\n",
       "      <th>SBGL</th>\n",
       "      <td>1434</td>\n",
       "      <td>405</td>\n",
       "      <td>28.242678</td>\n",
       "    </tr>\n",
       "    <tr>\n",
       "      <th>SAME</th>\n",
       "      <td>1625</td>\n",
       "      <td>443</td>\n",
       "      <td>27.261538</td>\n",
       "    </tr>\n",
       "  </tbody>\n",
       "</table>\n",
       "</div>"
      ],
      "text/plain": [
       "      flight_frequency  delay_number  delay_rate\n",
       "YSSY               195           113   57.948718\n",
       "YMML                38            21   55.263158\n",
       "SAAR               136            54   39.705882\n",
       "NZAA               361           135   37.396122\n",
       "MDPC                54            18   33.333333\n",
       "CYYZ               283            89   31.448763\n",
       "SACO              1023           308   30.107527\n",
       "SGAS               232            66   28.448276\n",
       "SBGL              1434           405   28.242678\n",
       "SAME              1625           443   27.261538"
      ]
     },
     "execution_count": 190,
     "metadata": {},
     "output_type": "execute_result"
    }
   ],
   "source": [
    "aux_df = pd.DataFrame(index=df['destination_code_i'].unique(), columns=['flight_frequency', 'delay_number', 'delay_rate'])\n",
    "aux_df['flight_frequency'] = df[['destination_code_i', 'atraso_15']].groupby('destination_code_i').count()\n",
    "aux_df['delay_number'] = df[['destination_code_i', 'atraso_15']].groupby('destination_code_i').sum()\n",
    "aux_df['delay_rate'] =  100 * (aux_df['delay_number'] / aux_df['flight_frequency'])\n",
    "aux_df = aux_df.sort_values(by='delay_rate', ascending=False)\n",
    "aux_df = aux_df.loc[aux_df['flight_frequency'] > 30, :]\n",
    "aux_df.head(10)"
   ]
  },
  {
   "cell_type": "code",
   "execution_count": 191,
   "metadata": {},
   "outputs": [
    {
     "data": {
      "text/html": [
       "<div>\n",
       "<style scoped>\n",
       "    .dataframe tbody tr th:only-of-type {\n",
       "        vertical-align: middle;\n",
       "    }\n",
       "\n",
       "    .dataframe tbody tr th {\n",
       "        vertical-align: top;\n",
       "    }\n",
       "\n",
       "    .dataframe thead th {\n",
       "        text-align: right;\n",
       "    }\n",
       "</style>\n",
       "<table border=\"1\" class=\"dataframe\">\n",
       "  <thead>\n",
       "    <tr style=\"text-align: right;\">\n",
       "      <th></th>\n",
       "      <th>flight_frequency</th>\n",
       "      <th>delay_number</th>\n",
       "      <th>delay_rate</th>\n",
       "    </tr>\n",
       "  </thead>\n",
       "  <tbody>\n",
       "    <tr>\n",
       "      <th>LIRF</th>\n",
       "      <td>259</td>\n",
       "      <td>29</td>\n",
       "      <td>11.196911</td>\n",
       "    </tr>\n",
       "    <tr>\n",
       "      <th>SAZN</th>\n",
       "      <td>37</td>\n",
       "      <td>4</td>\n",
       "      <td>10.810811</td>\n",
       "    </tr>\n",
       "    <tr>\n",
       "      <th>MMMX</th>\n",
       "      <td>700</td>\n",
       "      <td>66</td>\n",
       "      <td>9.428571</td>\n",
       "    </tr>\n",
       "    <tr>\n",
       "      <th>SCNT</th>\n",
       "      <td>79</td>\n",
       "      <td>7</td>\n",
       "      <td>8.860759</td>\n",
       "    </tr>\n",
       "    <tr>\n",
       "      <th>LFPG</th>\n",
       "      <td>359</td>\n",
       "      <td>31</td>\n",
       "      <td>8.635097</td>\n",
       "    </tr>\n",
       "    <tr>\n",
       "      <th>SCPQ</th>\n",
       "      <td>235</td>\n",
       "      <td>18</td>\n",
       "      <td>7.659574</td>\n",
       "    </tr>\n",
       "    <tr>\n",
       "      <th>KDFW</th>\n",
       "      <td>357</td>\n",
       "      <td>25</td>\n",
       "      <td>7.002801</td>\n",
       "    </tr>\n",
       "    <tr>\n",
       "      <th>MPTO</th>\n",
       "      <td>1850</td>\n",
       "      <td>116</td>\n",
       "      <td>6.270270</td>\n",
       "    </tr>\n",
       "    <tr>\n",
       "      <th>KATL</th>\n",
       "      <td>358</td>\n",
       "      <td>21</td>\n",
       "      <td>5.865922</td>\n",
       "    </tr>\n",
       "    <tr>\n",
       "      <th>KIAH</th>\n",
       "      <td>335</td>\n",
       "      <td>17</td>\n",
       "      <td>5.074627</td>\n",
       "    </tr>\n",
       "  </tbody>\n",
       "</table>\n",
       "</div>"
      ],
      "text/plain": [
       "      flight_frequency  delay_number  delay_rate\n",
       "LIRF               259            29   11.196911\n",
       "SAZN                37             4   10.810811\n",
       "MMMX               700            66    9.428571\n",
       "SCNT                79             7    8.860759\n",
       "LFPG               359            31    8.635097\n",
       "SCPQ               235            18    7.659574\n",
       "KDFW               357            25    7.002801\n",
       "MPTO              1850           116    6.270270\n",
       "KATL               358            21    5.865922\n",
       "KIAH               335            17    5.074627"
      ]
     },
     "execution_count": 191,
     "metadata": {},
     "output_type": "execute_result"
    }
   ],
   "source": [
    "aux_df.tail(10)"
   ]
  },
  {
   "cell_type": "code",
   "execution_count": 192,
   "metadata": {},
   "outputs": [
    {
     "data": {
      "text/plain": [
       "0.035188036067734796"
      ]
     },
     "execution_count": 192,
     "metadata": {},
     "output_type": "execute_result"
    }
   ],
   "source": [
    "100*(1 - aux_df['flight_frequency'].sum()/len(df))"
   ]
  },
  {
   "cell_type": "code",
   "execution_count": 193,
   "metadata": {},
   "outputs": [
    {
     "data": {
      "text/plain": [
       "<AxesSubplot:>"
      ]
     },
     "execution_count": 193,
     "metadata": {},
     "output_type": "execute_result"
    },
    {
     "data": {
      "image/png": "[encoded data removed]",
      "text/plain": [
       "<Figure size 432x288 with 1 Axes>"
      ]
     },
     "metadata": {
      "needs_background": "light"
     },
     "output_type": "display_data"
    }
   ],
   "source": [
    "aux_df['delay_rate'].hist()"
   ]
  },
  {
   "cell_type": "code",
   "execution_count": 194,
   "metadata": {},
   "outputs": [
    {
     "data": {
      "text/plain": [
       "1.7154167583021795"
      ]
     },
     "execution_count": 194,
     "metadata": {},
     "output_type": "execute_result"
    }
   ],
   "source": [
    "100 * (1 - aux_df[aux_df['flight_frequency'] > 200]['flight_frequency'].sum()/len(df))"
   ]
  },
  {
   "cell_type": "markdown",
   "metadata": {},
   "source": [
    "We're using `destination_code_i` because there are only 28 flights in which `destination_code_o` is different than `destination_code_i`, so the analysis and it's conclusion should be the same despite the destination code used.\n",
    "\n",
    "In order to better understand delay behavior by destination, we ignored all destination cities that receives less than 30 flights. It does not compromise the analysis as it represents only 0.035% of all flight records.\n",
    "\n",
    "We see that there are cities with almost 60% of flight delay rate. It may be an outlier, as those cities have less than 200 flight records and all cities that receives less than 200 flights sums up to only 1.7% of all flights.\n",
    "\n",
    "It is clear that most of the destination cities have a delay rate between 10% and 20%, with some cities that do have more than 30%."
   ]
  },
  {
   "cell_type": "markdown",
   "metadata": {},
   "source": [
    "#### Airline"
   ]
  },
  {
   "cell_type": "code",
   "execution_count": 195,
   "metadata": {},
   "outputs": [
    {
     "data": {
      "text/html": [
       "<div>\n",
       "<style scoped>\n",
       "    .dataframe tbody tr th:only-of-type {\n",
       "        vertical-align: middle;\n",
       "    }\n",
       "\n",
       "    .dataframe tbody tr th {\n",
       "        vertical-align: top;\n",
       "    }\n",
       "\n",
       "    .dataframe thead th {\n",
       "        text-align: right;\n",
       "    }\n",
       "</style>\n",
       "<table border=\"1\" class=\"dataframe\">\n",
       "  <thead>\n",
       "    <tr style=\"text-align: right;\">\n",
       "      <th></th>\n",
       "      <th>flight_frequency</th>\n",
       "      <th>delay_number</th>\n",
       "      <th>delay_rate</th>\n",
       "    </tr>\n",
       "  </thead>\n",
       "  <tbody>\n",
       "    <tr>\n",
       "      <th>PUE</th>\n",
       "      <td>49</td>\n",
       "      <td>30</td>\n",
       "      <td>61.224490</td>\n",
       "    </tr>\n",
       "    <tr>\n",
       "      <th>QFU</th>\n",
       "      <td>195</td>\n",
       "      <td>113</td>\n",
       "      <td>57.948718</td>\n",
       "    </tr>\n",
       "    <tr>\n",
       "      <th>ACA</th>\n",
       "      <td>565</td>\n",
       "      <td>258</td>\n",
       "      <td>45.663717</td>\n",
       "    </tr>\n",
       "    <tr>\n",
       "      <th>LAW</th>\n",
       "      <td>1573</td>\n",
       "      <td>642</td>\n",
       "      <td>40.813732</td>\n",
       "    </tr>\n",
       "    <tr>\n",
       "      <th>JMR</th>\n",
       "      <td>100</td>\n",
       "      <td>39</td>\n",
       "      <td>39.000000</td>\n",
       "    </tr>\n",
       "    <tr>\n",
       "      <th>GLO</th>\n",
       "      <td>806</td>\n",
       "      <td>287</td>\n",
       "      <td>35.607940</td>\n",
       "    </tr>\n",
       "    <tr>\n",
       "      <th>LAP</th>\n",
       "      <td>216</td>\n",
       "      <td>61</td>\n",
       "      <td>28.240741</td>\n",
       "    </tr>\n",
       "    <tr>\n",
       "      <th>AVA</th>\n",
       "      <td>1152</td>\n",
       "      <td>306</td>\n",
       "      <td>26.562500</td>\n",
       "    </tr>\n",
       "    <tr>\n",
       "      <th>TAM</th>\n",
       "      <td>3049</td>\n",
       "      <td>780</td>\n",
       "      <td>25.582158</td>\n",
       "    </tr>\n",
       "    <tr>\n",
       "      <th>ARG</th>\n",
       "      <td>1949</td>\n",
       "      <td>468</td>\n",
       "      <td>24.012314</td>\n",
       "    </tr>\n",
       "    <tr>\n",
       "      <th>AUT</th>\n",
       "      <td>74</td>\n",
       "      <td>15</td>\n",
       "      <td>20.270270</td>\n",
       "    </tr>\n",
       "    <tr>\n",
       "      <th>JAT</th>\n",
       "      <td>1095</td>\n",
       "      <td>196</td>\n",
       "      <td>17.899543</td>\n",
       "    </tr>\n",
       "    <tr>\n",
       "      <th>SKU</th>\n",
       "      <td>14298</td>\n",
       "      <td>2540</td>\n",
       "      <td>17.764722</td>\n",
       "    </tr>\n",
       "    <tr>\n",
       "      <th>LAN</th>\n",
       "      <td>37611</td>\n",
       "      <td>6453</td>\n",
       "      <td>17.157215</td>\n",
       "    </tr>\n",
       "    <tr>\n",
       "      <th>ONE</th>\n",
       "      <td>279</td>\n",
       "      <td>43</td>\n",
       "      <td>15.412186</td>\n",
       "    </tr>\n",
       "    <tr>\n",
       "      <th>BAW</th>\n",
       "      <td>205</td>\n",
       "      <td>29</td>\n",
       "      <td>14.146341</td>\n",
       "    </tr>\n",
       "    <tr>\n",
       "      <th>LRC</th>\n",
       "      <td>92</td>\n",
       "      <td>11</td>\n",
       "      <td>11.956522</td>\n",
       "    </tr>\n",
       "    <tr>\n",
       "      <th>AZA</th>\n",
       "      <td>259</td>\n",
       "      <td>29</td>\n",
       "      <td>11.196911</td>\n",
       "    </tr>\n",
       "    <tr>\n",
       "      <th>IBE</th>\n",
       "      <td>362</td>\n",
       "      <td>36</td>\n",
       "      <td>9.944751</td>\n",
       "    </tr>\n",
       "    <tr>\n",
       "      <th>AFR</th>\n",
       "      <td>358</td>\n",
       "      <td>30</td>\n",
       "      <td>8.379888</td>\n",
       "    </tr>\n",
       "    <tr>\n",
       "      <th>KLM</th>\n",
       "      <td>251</td>\n",
       "      <td>21</td>\n",
       "      <td>8.366534</td>\n",
       "    </tr>\n",
       "    <tr>\n",
       "      <th>AAL</th>\n",
       "      <td>757</td>\n",
       "      <td>51</td>\n",
       "      <td>6.737120</td>\n",
       "    </tr>\n",
       "    <tr>\n",
       "      <th>CMP</th>\n",
       "      <td>1850</td>\n",
       "      <td>116</td>\n",
       "      <td>6.270270</td>\n",
       "    </tr>\n",
       "    <tr>\n",
       "      <th>DAL</th>\n",
       "      <td>358</td>\n",
       "      <td>21</td>\n",
       "      <td>5.865922</td>\n",
       "    </tr>\n",
       "    <tr>\n",
       "      <th>UAL</th>\n",
       "      <td>335</td>\n",
       "      <td>17</td>\n",
       "      <td>5.074627</td>\n",
       "    </tr>\n",
       "    <tr>\n",
       "      <th>AMX</th>\n",
       "      <td>351</td>\n",
       "      <td>10</td>\n",
       "      <td>2.849003</td>\n",
       "    </tr>\n",
       "  </tbody>\n",
       "</table>\n",
       "</div>"
      ],
      "text/plain": [
       "     flight_frequency  delay_number  delay_rate\n",
       "PUE                49            30   61.224490\n",
       "QFU               195           113   57.948718\n",
       "ACA               565           258   45.663717\n",
       "LAW              1573           642   40.813732\n",
       "JMR               100            39   39.000000\n",
       "GLO               806           287   35.607940\n",
       "LAP               216            61   28.240741\n",
       "AVA              1152           306   26.562500\n",
       "TAM              3049           780   25.582158\n",
       "ARG              1949           468   24.012314\n",
       "AUT                74            15   20.270270\n",
       "JAT              1095           196   17.899543\n",
       "SKU             14298          2540   17.764722\n",
       "LAN             37611          6453   17.157215\n",
       "ONE               279            43   15.412186\n",
       "BAW               205            29   14.146341\n",
       "LRC                92            11   11.956522\n",
       "AZA               259            29   11.196911\n",
       "IBE               362            36    9.944751\n",
       "AFR               358            30    8.379888\n",
       "KLM               251            21    8.366534\n",
       "AAL               757            51    6.737120\n",
       "CMP              1850           116    6.270270\n",
       "DAL               358            21    5.865922\n",
       "UAL               335            17    5.074627\n",
       "AMX               351            10    2.849003"
      ]
     },
     "execution_count": 195,
     "metadata": {},
     "output_type": "execute_result"
    }
   ],
   "source": [
    "aux_df = pd.DataFrame(index=df['airline_code_i'].unique(), columns=['flight_frequency', 'delay_number', 'delay_rate'])\n",
    "aux_df['flight_frequency'] = df[['airline_code_i', 'atraso_15']].groupby('airline_code_i').count()\n",
    "aux_df['delay_number'] = df[['airline_code_i', 'atraso_15']].groupby('airline_code_i').sum()\n",
    "aux_df['delay_rate'] =  100 * (aux_df['delay_number'] / aux_df['flight_frequency'])\n",
    "aux_df = aux_df.sort_values(by='delay_rate', ascending=False)\n",
    "aux_df = aux_df.loc[aux_df['flight_frequency'] > 30, :]\n",
    "aux_df"
   ]
  },
  {
   "cell_type": "code",
   "execution_count": 196,
   "metadata": {},
   "outputs": [
    {
     "data": {
      "text/plain": [
       "<AxesSubplot:>"
      ]
     },
     "execution_count": 196,
     "metadata": {},
     "output_type": "execute_result"
    },
    {
     "data": {
      "image/png": "[encoded data removed]",
      "text/plain": [
       "<Figure size 432x288 with 1 Axes>"
      ]
     },
     "metadata": {
      "needs_background": "light"
     },
     "output_type": "display_data"
    }
   ],
   "source": [
    "aux_df['delay_rate'].hist()"
   ]
  },
  {
   "cell_type": "markdown",
   "metadata": {},
   "source": [
    "Like the previous feature analysed, `airline` also have some groups with almost 60% delay rate. However, delay rate density is greater bellow 10% this time."
   ]
  },
  {
   "cell_type": "markdown",
   "metadata": {},
   "source": [
    "#### Month"
   ]
  },
  {
   "cell_type": "code",
   "execution_count": 197,
   "metadata": {},
   "outputs": [
    {
     "data": {
      "text/html": [
       "<div>\n",
       "<style scoped>\n",
       "    .dataframe tbody tr th:only-of-type {\n",
       "        vertical-align: middle;\n",
       "    }\n",
       "\n",
       "    .dataframe tbody tr th {\n",
       "        vertical-align: top;\n",
       "    }\n",
       "\n",
       "    .dataframe thead th {\n",
       "        text-align: right;\n",
       "    }\n",
       "</style>\n",
       "<table border=\"1\" class=\"dataframe\">\n",
       "  <thead>\n",
       "    <tr style=\"text-align: right;\">\n",
       "      <th></th>\n",
       "      <th>flight_frequency</th>\n",
       "      <th>delay_number</th>\n",
       "      <th>delay_rate</th>\n",
       "    </tr>\n",
       "  </thead>\n",
       "  <tbody>\n",
       "    <tr>\n",
       "      <th>7</th>\n",
       "      <td>5992</td>\n",
       "      <td>1758</td>\n",
       "      <td>29.339119</td>\n",
       "    </tr>\n",
       "    <tr>\n",
       "      <th>12</th>\n",
       "      <td>6356</td>\n",
       "      <td>1615</td>\n",
       "      <td>25.409062</td>\n",
       "    </tr>\n",
       "    <tr>\n",
       "      <th>10</th>\n",
       "      <td>6032</td>\n",
       "      <td>1363</td>\n",
       "      <td>22.596154</td>\n",
       "    </tr>\n",
       "    <tr>\n",
       "      <th>11</th>\n",
       "      <td>6080</td>\n",
       "      <td>1199</td>\n",
       "      <td>19.720395</td>\n",
       "    </tr>\n",
       "    <tr>\n",
       "      <th>8</th>\n",
       "      <td>5744</td>\n",
       "      <td>996</td>\n",
       "      <td>17.339833</td>\n",
       "    </tr>\n",
       "    <tr>\n",
       "      <th>9</th>\n",
       "      <td>5610</td>\n",
       "      <td>967</td>\n",
       "      <td>17.237077</td>\n",
       "    </tr>\n",
       "    <tr>\n",
       "      <th>6</th>\n",
       "      <td>4981</td>\n",
       "      <td>852</td>\n",
       "      <td>17.104999</td>\n",
       "    </tr>\n",
       "    <tr>\n",
       "      <th>1</th>\n",
       "      <td>6107</td>\n",
       "      <td>978</td>\n",
       "      <td>16.014410</td>\n",
       "    </tr>\n",
       "    <tr>\n",
       "      <th>5</th>\n",
       "      <td>5240</td>\n",
       "      <td>827</td>\n",
       "      <td>15.782443</td>\n",
       "    </tr>\n",
       "    <tr>\n",
       "      <th>2</th>\n",
       "      <td>5561</td>\n",
       "      <td>843</td>\n",
       "      <td>15.159144</td>\n",
       "    </tr>\n",
       "    <tr>\n",
       "      <th>4</th>\n",
       "      <td>5020</td>\n",
       "      <td>585</td>\n",
       "      <td>11.653386</td>\n",
       "    </tr>\n",
       "    <tr>\n",
       "      <th>3</th>\n",
       "      <td>5482</td>\n",
       "      <td>631</td>\n",
       "      <td>11.510398</td>\n",
       "    </tr>\n",
       "  </tbody>\n",
       "</table>\n",
       "</div>"
      ],
      "text/plain": [
       "    flight_frequency  delay_number  delay_rate\n",
       "7               5992          1758   29.339119\n",
       "12              6356          1615   25.409062\n",
       "10              6032          1363   22.596154\n",
       "11              6080          1199   19.720395\n",
       "8               5744           996   17.339833\n",
       "9               5610           967   17.237077\n",
       "6               4981           852   17.104999\n",
       "1               6107           978   16.014410\n",
       "5               5240           827   15.782443\n",
       "2               5561           843   15.159144\n",
       "4               5020           585   11.653386\n",
       "3               5482           631   11.510398"
      ]
     },
     "execution_count": 197,
     "metadata": {},
     "output_type": "execute_result"
    }
   ],
   "source": [
    "aux_df = pd.DataFrame(index=df['month'].unique(), columns=['flight_frequency', 'delay_number', 'delay_rate'])\n",
    "aux_df['flight_frequency'] = df[['month', 'atraso_15']].groupby('month').count()\n",
    "aux_df['delay_number'] = df[['month', 'atraso_15']].groupby('month').sum()\n",
    "aux_df['delay_rate'] =  100 * (aux_df['delay_number'] / aux_df['flight_frequency'])\n",
    "aux_df = aux_df.sort_values(by='delay_rate', ascending=False)\n",
    "aux_df = aux_df.loc[aux_df['flight_frequency'] > 30, :]\n",
    "aux_df"
   ]
  },
  {
   "cell_type": "markdown",
   "metadata": {},
   "source": [
    "As we saw previously, there are some significant difference between flight number over the months. However, delay rate is quite sensitive to the months, being almost 3 times higher in July than in March. It is interesting to see that July is only the 5th month in flight number, but is the 1st in delay rate, being far away (almost 20% higher than the second month). It is notorious the correlation between flight number and delay rate, as 4 of the 5 months with the most flights are in the top 5 months in delay rate."
   ]
  },
  {
   "cell_type": "markdown",
   "metadata": {},
   "source": [
    "#### Season (or `temporada_alta`)"
   ]
  },
  {
   "cell_type": "code",
   "execution_count": 198,
   "metadata": {},
   "outputs": [
    {
     "data": {
      "text/html": [
       "<div>\n",
       "<style scoped>\n",
       "    .dataframe tbody tr th:only-of-type {\n",
       "        vertical-align: middle;\n",
       "    }\n",
       "\n",
       "    .dataframe tbody tr th {\n",
       "        vertical-align: top;\n",
       "    }\n",
       "\n",
       "    .dataframe thead th {\n",
       "        text-align: right;\n",
       "    }\n",
       "</style>\n",
       "<table border=\"1\" class=\"dataframe\">\n",
       "  <thead>\n",
       "    <tr style=\"text-align: right;\">\n",
       "      <th></th>\n",
       "      <th>flight_frequency</th>\n",
       "      <th>delay_number</th>\n",
       "      <th>delay_rate</th>\n",
       "    </tr>\n",
       "  </thead>\n",
       "  <tbody>\n",
       "    <tr>\n",
       "      <th>1</th>\n",
       "      <td>22761</td>\n",
       "      <td>4470</td>\n",
       "      <td>19.638856</td>\n",
       "    </tr>\n",
       "    <tr>\n",
       "      <th>0</th>\n",
       "      <td>45444</td>\n",
       "      <td>8144</td>\n",
       "      <td>17.920958</td>\n",
       "    </tr>\n",
       "  </tbody>\n",
       "</table>\n",
       "</div>"
      ],
      "text/plain": [
       "   flight_frequency  delay_number  delay_rate\n",
       "1             22761          4470   19.638856\n",
       "0             45444          8144   17.920958"
      ]
     },
     "execution_count": 198,
     "metadata": {},
     "output_type": "execute_result"
    }
   ],
   "source": [
    "aux_df = pd.DataFrame(index=df['temporada_alta'].unique(), columns=['flight_frequency', 'delay_number', 'delay_rate'])\n",
    "aux_df['flight_frequency'] = df[['temporada_alta', 'atraso_15']].groupby('temporada_alta').count()\n",
    "aux_df['delay_number'] = df[['temporada_alta', 'atraso_15']].groupby('temporada_alta').sum()\n",
    "aux_df['delay_rate'] =  100 * (aux_df['delay_number'] / aux_df['flight_frequency'])\n",
    "aux_df = aux_df.sort_values(by='delay_rate', ascending=False)\n",
    "aux_df = aux_df.loc[aux_df['flight_frequency'] > 30, :]\n",
    "aux_df"
   ]
  },
  {
   "cell_type": "markdown",
   "metadata": {},
   "source": [
    "Unlike what we thought, delay rate is not so different between `temporada alta` and `temporada baixa`. Delay rate is only 2% higher in absolute values (only 9% in relative values)"
   ]
  },
  {
   "cell_type": "markdown",
   "metadata": {},
   "source": [
    "#### Flight type"
   ]
  },
  {
   "cell_type": "code",
   "execution_count": 199,
   "metadata": {},
   "outputs": [
    {
     "data": {
      "text/html": [
       "<div>\n",
       "<style scoped>\n",
       "    .dataframe tbody tr th:only-of-type {\n",
       "        vertical-align: middle;\n",
       "    }\n",
       "\n",
       "    .dataframe tbody tr th {\n",
       "        vertical-align: top;\n",
       "    }\n",
       "\n",
       "    .dataframe thead th {\n",
       "        text-align: right;\n",
       "    }\n",
       "</style>\n",
       "<table border=\"1\" class=\"dataframe\">\n",
       "  <thead>\n",
       "    <tr style=\"text-align: right;\">\n",
       "      <th></th>\n",
       "      <th>flight_frequency</th>\n",
       "      <th>delay_number</th>\n",
       "      <th>delay_rate</th>\n",
       "    </tr>\n",
       "  </thead>\n",
       "  <tbody>\n",
       "    <tr>\n",
       "      <th>I</th>\n",
       "      <td>31239</td>\n",
       "      <td>7048</td>\n",
       "      <td>22.561542</td>\n",
       "    </tr>\n",
       "    <tr>\n",
       "      <th>N</th>\n",
       "      <td>36966</td>\n",
       "      <td>5566</td>\n",
       "      <td>15.057079</td>\n",
       "    </tr>\n",
       "  </tbody>\n",
       "</table>\n",
       "</div>"
      ],
      "text/plain": [
       "   flight_frequency  delay_number  delay_rate\n",
       "I             31239          7048   22.561542\n",
       "N             36966          5566   15.057079"
      ]
     },
     "execution_count": 199,
     "metadata": {},
     "output_type": "execute_result"
    }
   ],
   "source": [
    "aux_df = pd.DataFrame(index=df['flight_type'].unique(), columns=['flight_frequency', 'delay_number', 'delay_rate'])\n",
    "aux_df['flight_frequency'] = df[['flight_type', 'atraso_15']].groupby('flight_type').count()\n",
    "aux_df['delay_number'] = df[['flight_type', 'atraso_15']].groupby('flight_type').sum()\n",
    "aux_df['delay_rate'] =  100 * (aux_df['delay_number'] / aux_df['flight_frequency'])\n",
    "aux_df = aux_df.sort_values(by='delay_rate', ascending=False)\n",
    "aux_df = aux_df.loc[aux_df['flight_frequency'] > 30, :]\n",
    "aux_df"
   ]
  },
  {
   "cell_type": "markdown",
   "metadata": {},
   "source": [
    "But, speaking of delay rate in relation to flight type, `international` flights are quite more suusceptible to be delayed than `national` flights. The difference is 7.5% in absolute values, about 50% in relative values."
   ]
  },
  {
   "cell_type": "markdown",
   "metadata": {},
   "source": [
    "## More feature validation\n",
    "\n",
    "- flight frequency (flight number, destination and airline)"
   ]
  },
  {
   "cell_type": "code",
   "execution_count": 200,
   "metadata": {},
   "outputs": [
    {
     "data": {
      "text/html": [
       "<div>\n",
       "<style scoped>\n",
       "    .dataframe tbody tr th:only-of-type {\n",
       "        vertical-align: middle;\n",
       "    }\n",
       "\n",
       "    .dataframe tbody tr th {\n",
       "        vertical-align: top;\n",
       "    }\n",
       "\n",
       "    .dataframe thead th {\n",
       "        text-align: right;\n",
       "    }\n",
       "</style>\n",
       "<table border=\"1\" class=\"dataframe\">\n",
       "  <thead>\n",
       "    <tr style=\"text-align: right;\">\n",
       "      <th></th>\n",
       "      <th>flight_frequency</th>\n",
       "      <th>delay_number</th>\n",
       "      <th>delay_rate</th>\n",
       "    </tr>\n",
       "  </thead>\n",
       "  <tbody>\n",
       "    <tr>\n",
       "      <th>7SCCISKU</th>\n",
       "      <td>365</td>\n",
       "      <td>51</td>\n",
       "      <td>13.972603</td>\n",
       "    </tr>\n",
       "    <tr>\n",
       "      <th>190SCARSKU</th>\n",
       "      <td>364</td>\n",
       "      <td>18</td>\n",
       "      <td>4.945055</td>\n",
       "    </tr>\n",
       "    <tr>\n",
       "      <th>273SCTELAN</th>\n",
       "      <td>364</td>\n",
       "      <td>49</td>\n",
       "      <td>13.461538</td>\n",
       "    </tr>\n",
       "    <tr>\n",
       "      <th>285SCTELAN</th>\n",
       "      <td>364</td>\n",
       "      <td>42</td>\n",
       "      <td>11.538462</td>\n",
       "    </tr>\n",
       "    <tr>\n",
       "      <th>802SPJCSKU</th>\n",
       "      <td>364</td>\n",
       "      <td>38</td>\n",
       "      <td>10.439560</td>\n",
       "    </tr>\n",
       "    <tr>\n",
       "      <th>...</th>\n",
       "      <td>...</td>\n",
       "      <td>...</td>\n",
       "      <td>...</td>\n",
       "    </tr>\n",
       "    <tr>\n",
       "      <th>50SCFALAW</th>\n",
       "      <td>32</td>\n",
       "      <td>12</td>\n",
       "      <td>37.500000</td>\n",
       "    </tr>\n",
       "    <tr>\n",
       "      <th>57SCTELAN</th>\n",
       "      <td>32</td>\n",
       "      <td>10</td>\n",
       "      <td>31.250000</td>\n",
       "    </tr>\n",
       "    <tr>\n",
       "      <th>455SAEZLAN</th>\n",
       "      <td>32</td>\n",
       "      <td>16</td>\n",
       "      <td>50.000000</td>\n",
       "    </tr>\n",
       "    <tr>\n",
       "      <th>9659SBGRTAM</th>\n",
       "      <td>31</td>\n",
       "      <td>21</td>\n",
       "      <td>67.741935</td>\n",
       "    </tr>\n",
       "    <tr>\n",
       "      <th>1222SCFALAN</th>\n",
       "      <td>31</td>\n",
       "      <td>5</td>\n",
       "      <td>16.129032</td>\n",
       "    </tr>\n",
       "  </tbody>\n",
       "</table>\n",
       "<p>365 rows × 3 columns</p>\n",
       "</div>"
      ],
      "text/plain": [
       "             flight_frequency  delay_number  delay_rate\n",
       "7SCCISKU                  365            51   13.972603\n",
       "190SCARSKU                364            18    4.945055\n",
       "273SCTELAN                364            49   13.461538\n",
       "285SCTELAN                364            42   11.538462\n",
       "802SPJCSKU                364            38   10.439560\n",
       "...                       ...           ...         ...\n",
       "50SCFALAW                  32            12   37.500000\n",
       "57SCTELAN                  32            10   31.250000\n",
       "455SAEZLAN                 32            16   50.000000\n",
       "9659SBGRTAM                31            21   67.741935\n",
       "1222SCFALAN                31             5   16.129032\n",
       "\n",
       "[365 rows x 3 columns]"
      ]
     },
     "execution_count": 200,
     "metadata": {},
     "output_type": "execute_result"
    }
   ],
   "source": [
    "df['flight_info'] = df['flight_number_i'] + df['destination_code_i'] + df['airline_code_i']\n",
    "aux_df = pd.DataFrame(index=df['flight_info'].unique(), columns=['flight_frequency', 'delay_number', 'delay_rate'])\n",
    "aux_df['flight_frequency'] = df[['flight_info', 'atraso_15']].groupby('flight_info').count()\n",
    "aux_df['delay_number'] = df[['flight_info', 'atraso_15']].groupby('flight_info').sum()\n",
    "aux_df['delay_rate'] =  100 * (aux_df['delay_number'] / aux_df['flight_frequency'])\n",
    "aux_df = aux_df.sort_values(by='flight_frequency', ascending=False)\n",
    "aux_df = aux_df.loc[aux_df['flight_frequency'] > 30, :]\n",
    "aux_df"
   ]
  },
  {
   "cell_type": "code",
   "execution_count": 201,
   "metadata": {},
   "outputs": [
    {
     "data": {
      "image/png": "[encoded data removed]",
      "text/plain": [
       "<Figure size 1440x864 with 1 Axes>"
      ]
     },
     "metadata": {
      "needs_background": "light"
     },
     "output_type": "display_data"
    }
   ],
   "source": [
    "aux_df['moving_average_20'] = aux_df['delay_rate'].rolling(20, min_periods=1).mean()\n",
    "aux_df['moving_average_100'] = aux_df['delay_rate'].rolling(100, min_periods=1).mean()\n",
    "\n",
    "plt.figure(figsize=(20,12))\n",
    "plt.plot(aux_df['flight_frequency'], aux_df['delay_rate'], label='delay_rate')\n",
    "plt.plot(aux_df['flight_frequency'], aux_df['moving_average_20'], label='moving_average_20')\n",
    "plt.plot(aux_df['flight_frequency'], aux_df['moving_average_100'], label='moving_average_100')\n",
    "plt.grid()\n",
    "plt.xlabel('Fligth frequency')\n",
    "plt.ylabel('Delay rate')\n",
    "plt.legend()\n",
    "plt.show()"
   ]
  },
  {
   "cell_type": "markdown",
   "metadata": {},
   "source": [
    "We see that this created feature `flight_frequency` does not explain delay rate, as it is very noisy, without a visible tendency and without tendency even in a moving average using 20 and 100 data points. So we can't even create buckets (\"less than 100 flights\", \"between 100 and 300 flights\", \"more than 300 flights\") and calculate the average delay rate in it because it should not bring valuable info to predict delay rate."
   ]
  },
  {
   "cell_type": "markdown",
   "metadata": {},
   "source": [
    "- inconsistency flag between flight scheduling and operation\n",
    "    - airline"
   ]
  },
  {
   "cell_type": "code",
   "execution_count": 202,
   "metadata": {},
   "outputs": [
    {
     "data": {
      "text/html": [
       "<div>\n",
       "<style scoped>\n",
       "    .dataframe tbody tr th:only-of-type {\n",
       "        vertical-align: middle;\n",
       "    }\n",
       "\n",
       "    .dataframe tbody tr th {\n",
       "        vertical-align: top;\n",
       "    }\n",
       "\n",
       "    .dataframe thead th {\n",
       "        text-align: right;\n",
       "    }\n",
       "</style>\n",
       "<table border=\"1\" class=\"dataframe\">\n",
       "  <thead>\n",
       "    <tr style=\"text-align: right;\">\n",
       "      <th></th>\n",
       "      <th>flight_frequency</th>\n",
       "      <th>delay_number</th>\n",
       "      <th>delay_rate</th>\n",
       "    </tr>\n",
       "  </thead>\n",
       "  <tbody>\n",
       "    <tr>\n",
       "      <th>False</th>\n",
       "      <td>49537</td>\n",
       "      <td>9253</td>\n",
       "      <td>18.678967</td>\n",
       "    </tr>\n",
       "    <tr>\n",
       "      <th>True</th>\n",
       "      <td>18668</td>\n",
       "      <td>3361</td>\n",
       "      <td>18.004071</td>\n",
       "    </tr>\n",
       "  </tbody>\n",
       "</table>\n",
       "</div>"
      ],
      "text/plain": [
       "       flight_frequency  delay_number  delay_rate\n",
       "False             49537          9253   18.678967\n",
       "True              18668          3361   18.004071"
      ]
     },
     "execution_count": 202,
     "metadata": {},
     "output_type": "execute_result"
    }
   ],
   "source": [
    "df['airline_inconsistency'] = df['airline_code_i'] != df['airline_code_o']\n",
    "df['airline_inconsistency'].value_counts()\n",
    "\n",
    "aux_df = pd.DataFrame(index=df['airline_inconsistency'].unique(), columns=['flight_frequency', 'delay_number', 'delay_rate'])\n",
    "aux_df['flight_frequency'] = df[['airline_inconsistency', 'atraso_15']].groupby('airline_inconsistency').count()\n",
    "aux_df['delay_number'] = df[['airline_inconsistency', 'atraso_15']].groupby('airline_inconsistency').sum()\n",
    "aux_df['delay_rate'] =  100 * (aux_df['delay_number'] / aux_df['flight_frequency'])\n",
    "aux_df = aux_df.sort_values(by='flight_frequency', ascending=False)\n",
    "aux_df = aux_df.loc[aux_df['flight_frequency'] > 30, :]\n",
    "aux_df"
   ]
  },
  {
   "cell_type": "markdown",
   "metadata": {},
   "source": [
    "So, airline inconsistency is not relevant to predict delay rate."
   ]
  },
  {
   "cell_type": "markdown",
   "metadata": {},
   "source": [
    "- periodo_dia"
   ]
  },
  {
   "cell_type": "code",
   "execution_count": 203,
   "metadata": {},
   "outputs": [
    {
     "data": {
      "text/html": [
       "<div>\n",
       "<style scoped>\n",
       "    .dataframe tbody tr th:only-of-type {\n",
       "        vertical-align: middle;\n",
       "    }\n",
       "\n",
       "    .dataframe tbody tr th {\n",
       "        vertical-align: top;\n",
       "    }\n",
       "\n",
       "    .dataframe thead th {\n",
       "        text-align: right;\n",
       "    }\n",
       "</style>\n",
       "<table border=\"1\" class=\"dataframe\">\n",
       "  <thead>\n",
       "    <tr style=\"text-align: right;\">\n",
       "      <th></th>\n",
       "      <th>flight_frequency</th>\n",
       "      <th>delay_number</th>\n",
       "      <th>delay_rate</th>\n",
       "    </tr>\n",
       "  </thead>\n",
       "  <tbody>\n",
       "    <tr>\n",
       "      <th>tarde</th>\n",
       "      <td>25506</td>\n",
       "      <td>5086</td>\n",
       "      <td>19.940406</td>\n",
       "    </tr>\n",
       "    <tr>\n",
       "      <th>mañana</th>\n",
       "      <td>25351</td>\n",
       "      <td>4058</td>\n",
       "      <td>16.007258</td>\n",
       "    </tr>\n",
       "    <tr>\n",
       "      <th>noche</th>\n",
       "      <td>17348</td>\n",
       "      <td>3470</td>\n",
       "      <td>20.002306</td>\n",
       "    </tr>\n",
       "  </tbody>\n",
       "</table>\n",
       "</div>"
      ],
      "text/plain": [
       "        flight_frequency  delay_number  delay_rate\n",
       "tarde              25506          5086   19.940406\n",
       "mañana             25351          4058   16.007258\n",
       "noche              17348          3470   20.002306"
      ]
     },
     "execution_count": 203,
     "metadata": {},
     "output_type": "execute_result"
    }
   ],
   "source": [
    "aux_df = pd.DataFrame(index=df['periodo_dia'].unique(), columns=['flight_frequency', 'delay_number', 'delay_rate'])\n",
    "aux_df['flight_frequency'] = df[['periodo_dia', 'atraso_15']].groupby('periodo_dia').count()\n",
    "aux_df['delay_number'] = df[['periodo_dia', 'atraso_15']].groupby('periodo_dia').sum()\n",
    "aux_df['delay_rate'] =  100 * (aux_df['delay_number'] / aux_df['flight_frequency'])\n",
    "aux_df = aux_df.sort_values(by='flight_frequency', ascending=False)\n",
    "aux_df = aux_df.loc[aux_df['flight_frequency'] > 30, :]\n",
    "aux_df"
   ]
  },
  {
   "cell_type": "markdown",
   "metadata": {},
   "source": [
    "Periodo_dia may be important to predict delay rate, so we will keep it as a model feature"
   ]
  },
  {
   "cell_type": "markdown",
   "metadata": {},
   "source": [
    "### Which features should we expect to have a strong impact to predict delay? (Weight Of Evidence and Information Value)\n",
    "\n",
    "After analysing all data and create some synthetic features, we ended up with the following features:\n",
    "\n",
    "- Destination\n",
    "- Airline\n",
    "- month\n",
    "- week_day\n",
    "- flight_type\n",
    "- temporada_alta\n",
    "- periodo_dia"
   ]
  },
  {
   "cell_type": "code",
   "execution_count": 204,
   "metadata": {},
   "outputs": [],
   "source": [
    "def categorical_woe_iv(df):\n",
    "\n",
    "    # Padronização das cores dos gráficos\n",
    "    darkred_patch = mpatches.Patch(color='darkred', label='WOE < -0,5')\n",
    "    red_patch = mpatches.Patch(color='red', label='-0,5 < WOE < -0,15')\n",
    "    light_red_patch = mpatches.Patch(color='lightcoral', label='-0,15 < WOE < 0')\n",
    "    light_blue_patch = mpatches.Patch(color='cornflowerblue', label='0 < WOE < 0,15')\n",
    "    blue_patch = mpatches.Patch(color='blue', label='0,15 < WOE < 0,5')\n",
    "    navy_patch = mpatches.Patch(color='navy', label='WOE > 0,5')\n",
    "\n",
    "    # Calculating Weight Of Evidence and Information Value\n",
    "\n",
    "    variaveis = []\n",
    "    information_value = []\n",
    "    for var in df.select_dtypes('object'):\n",
    "\n",
    "        legend_handles = []\n",
    "        aux = []\n",
    "        bins = np.sort(df[var].unique())\n",
    "        columns = ['Bin', 'Count', '# Event (B)', '# Non-event (M)', '%Event', '%Non-event', 'WOE', 'Cor', '%Event - %Non-event', 'IV']\n",
    "        for i in range(0, len(bins)):\n",
    "            count = len(df[df[var] == bins[i]])\n",
    "            event = len(df[(df[var] == bins[i]) & (df['target'] == 1)])\n",
    "            non_event = len(df[(df[var] == bins[i]) & (df['target'] == 0)])\n",
    "            event_per = event / len(df[df['target'] == 1])\n",
    "            non_event_per = non_event / len(df[df['target'] == 0])\n",
    "            woe = np.log(event_per / non_event_per)\n",
    "            dif_per = event_per - non_event_per\n",
    "            iv = dif_per * woe\n",
    "            if woe > 0.5:\n",
    "                cor = 'navy'\n",
    "            elif woe > 0.15:\n",
    "                cor = 'b'\n",
    "            elif woe > 0:\n",
    "                cor = 'cornflowerblue'\n",
    "            elif woe > -0.15:\n",
    "                cor = 'lightcoral'\n",
    "            elif woe > -0.5:\n",
    "                cor = 'r'\n",
    "            else:\n",
    "                cor = 'darkred'\n",
    "            values = [bins[i], count, event, non_event, event_per, non_event_per, woe, cor, dif_per, iv]\n",
    "            aux.append(dict(zip(columns, values)))\n",
    "        woe_df = pd.DataFrame(aux)\n",
    "        for color in woe_df['Cor'].unique():\n",
    "            if color == 'navy':\n",
    "                legend_handles.append(navy_patch)\n",
    "            elif color == 'b':\n",
    "                legend_handles.append(blue_patch)\n",
    "            elif color == 'cornflowerblue':\n",
    "                legend_handles.append(light_blue_patch)\n",
    "            elif color == 'lightcoral':\n",
    "                legend_handles.append(light_red_patch)\n",
    "            elif color == 'r':\n",
    "                legend_handles.append(red_patch)\n",
    "            else:\n",
    "                legend_handles.append(darkred_patch)\n",
    "\n",
    "        # Plot dos WOE para cada bin\n",
    "        x = [i for i in range(0, len(bins))]\n",
    "        fig = plt.figure(figsize=(7, 5))\n",
    "        plt.bar(woe_df['Bin'], height=woe_df['WOE'], color=np.array(woe_df['Cor']))\n",
    "        plt.ylabel('WOE')\n",
    "        plt.xlabel('Bin')\n",
    "        plt.title(var)\n",
    "        plt.legend(handles=legend_handles)\n",
    "        plt.xticks(x, woe_df['Bin'])\n",
    "        plt.margins(0.05)\n",
    "        plt.tight_layout()\n",
    "        plt.savefig(var)\n",
    "        # plt.close()\n",
    "\n",
    "        variaveis.append(var)\n",
    "        information_value.append(woe_df['IV'].sum())\n",
    "\n",
    "    iv = pd.DataFrame(information_value, index=variaveis, columns=['IV']).sort_values(by='IV')\n",
    "\n",
    "    return iv"
   ]
  },
  {
   "cell_type": "markdown",
   "metadata": {},
   "source": [
    "Usar LightGBM ou CatBoost pra poder contar com as variáveis categóricas sem muitos problemas\n",
    "\n",
    "Usar algum outro método, mas sem as variáveis categóricas, pra poder melhorar o resultado do modelo eventualmente"
   ]
  }
 ],
 "metadata": {
  "kernelspec": {
   "display_name": "Python 3.9.13 64-bit",
   "language": "python",
   "name": "python3"
  },
  "language_info": {
   "codemirror_mode": {
    "name": "ipython",
    "version": 3
   },
   "file_extension": ".py",
   "mimetype": "text/x-python",
   "name": "python",
   "nbconvert_exporter": "python",
   "pygments_lexer": "ipython3",
   "version": "3.9.13"
  },
  "orig_nbformat": 4,
  "vscode": {
   "interpreter": {
    "hash": "a665b5d41d17b532ea9890333293a1b812fa0b73c9c25c950b3cedf1bebd0438"
   }
  }
 },
 "nbformat": 4,
 "nbformat_minor": 2
}
