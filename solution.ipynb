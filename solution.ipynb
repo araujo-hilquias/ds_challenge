{
 "cells": [
  {
   "cell_type": "markdown",
   "metadata": {},
   "source": [
    "Consideraciones iníciales:\n",
    "\n",
    "Infelizmente no consigo escribir correctamente en español. Así que proseguiré con el desafío, escribiendo lo en Inglés."
   ]
  },
  {
   "cell_type": "markdown",
   "metadata": {},
   "source": [
    "# Data Scientist Challenge - LATAM Airlines\n",
    "\n",
    "### Problem\n",
    "\n",
    "The problem consists of predicting the delay probability of flights landing or taking off from Santiago de Chile (SCL). For this purpose, we provide a dataset using public and real data where each row corresponds to a flight that landed or took off from SCL. For each flight the following information is available:\n",
    "\n",
    "- **Fecha-I** : Scheduled date and time of the flight.\n",
    "- **Vlo-I** : Programmed flight number.\n",
    "- **Ori-I** : Programmed origin city code.\n",
    "- **Des-I** : Programmed destination city code.\n",
    "- **Emp-I** : Programmed flight airline code.\n",
    "- **Fecha-O** : Date and time of flight operation.\n",
    "- **Vlo-O** : Flight operation flight number.\n",
    "- **Ori-O** : Operation origin city code.\n",
    "- **Des-O** : Operation destination city code.\n",
    "- **Emp-O** : Operation flight airline code.\n",
    "- **DIA** : Operation day of the month of the flight.\n",
    "- **MES** : Flight operation month number.\n",
    "- **AÑO** : Year of flight operation.\n",
    "- **DIANOM** : Day of week of flight operation.\n",
    "- **TIPOVUELO** : Flight type, I = International, N = National.\n",
    "- **OPERA** : Operation airline name.\n",
    "- **SIGLAORI** : Origin city name.\n",
    "- **SIGLADES** : Destination city name.\n",
    "\n",
    "\n",
    "### Challenge\n",
    "\n",
    "1. How is the data distributed? What catches your attention or what is your conclusion about this?\n",
    "\n",
    "2. Create the following additional columns then export them in a file `synthetic_features.csv`\n",
    "    - **temporada_alta** : `1` if *Fecha-I* is between December 15th and March 3rd, or July 15th and July 31th, or September 11th and September 30, `0` otherwise\n",
    "    - **dif_min** : time difference in minutes between *Fecha-O* and *Fecha-I*\n",
    "    - **atraso_15** : `1` if *dif_min* > 15, `0` otherwise\n",
    "    - **periodo_dia** : `mañana` (between 5:00 and 11:59), `tarde` (between 12:00 and 18:59) and `noche` (between 19:00 and 4:59), based on *Fecha-I*\n",
    "\n",
    "3. How is delay rate composed by destination, airline, month, day of week, season (*temporada_alta*) and flight type? What features would you expect to better predict delay?\n",
    "\n",
    "4. Train one or more models (using algorithms of your choice) to estimate the probability of flight delay. Feel free to create additional variables and/or add external variables.\n",
    "\n",
    "5. Evaluate your model. How did it perform? Which metrics did you use to evaluate it and why? Why did you choose this algorithm in particular? Which features are more important to the prediction? How would you enhance the model performance?"
   ]
  },
  {
   "cell_type": "code",
   "execution_count": null,
   "metadata": {},
   "outputs": [],
   "source": [
    "import pandas as pd\n",
    "from datetime import datetime"
   ]
  },
  {
   "cell_type": "code",
   "execution_count": null,
   "metadata": {},
   "outputs": [],
   "source": [
    "def translate_data(df):\n",
    "\n",
    "    days_of_week = {\n",
    "        'Lunes' : 'Monday',\n",
    "        'Martes' : 'Tuesday',\n",
    "        'Miercoles' : 'Wednesday',\n",
    "        'Jueves' : 'Thursday',\n",
    "        'Viernes' : 'Friday',\n",
    "        'Sabado' : 'Saturday',\n",
    "        'Domingo' : 'Sunday'\n",
    "    }\n",
    "\n",
    "    columns = [\n",
    "        'datetime_i', 'flight_number_i', 'origin_code_i', 'destination_code_i', 'airline_code_i',\n",
    "        'datetime_o', 'flight_number_o', 'origin_code_o', 'destination_code_o', 'airline_code_o',\n",
    "        'day', 'month', 'year', 'week_day', 'flight_type', 'airline', 'origin', 'destination'\n",
    "    ]\n",
    "\n",
    "    df.columns = columns\n",
    "    df.loc[:, 'week_day'] = df.loc[:, 'week_day'].apply(lambda x: days_of_week[x])\n",
    "\n",
    "    return df"
   ]
  },
  {
   "cell_type": "code",
   "execution_count": null,
   "metadata": {},
   "outputs": [],
   "source": [
    "def get_treated_data():\n",
    "\n",
    "    flight_data = pd.read_csv('data/dataset_SCL.csv', parse_dates=[0, 5], low_memory=False)\n",
    "    flight_data = translate_data(flight_data)\n",
    "\n",
    "    return flight_data"
   ]
  },
  {
   "cell_type": "code",
   "execution_count": null,
   "metadata": {},
   "outputs": [],
   "source": [
    "df = get_treated_data()\n",
    "df.head()"
   ]
  }
 ],
 "metadata": {
  "kernelspec": {
   "display_name": "Python 3.9.13 64-bit",
   "language": "python",
   "name": "python3"
  },
  "language_info": {
   "codemirror_mode": {
    "name": "ipython",
    "version": 3
   },
   "file_extension": ".py",
   "mimetype": "text/x-python",
   "name": "python",
   "nbconvert_exporter": "python",
   "pygments_lexer": "ipython3",
   "version": "3.9.13"
  },
  "orig_nbformat": 4,
  "vscode": {
   "interpreter": {
    "hash": "a665b5d41d17b532ea9890333293a1b812fa0b73c9c25c950b3cedf1bebd0438"
   }
  }
 },
 "nbformat": 4,
 "nbformat_minor": 2
}
