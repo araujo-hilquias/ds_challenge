{
 "cells": [
  {
   "cell_type": "markdown",
   "metadata": {},
   "source": [
    "Consideraciones iníciales:\n",
    "\n",
    "Infelizmente no consigo escribir correctamente en español. Así que proseguiré con el desafío, escribiendo lo en Inglés."
   ]
  },
  {
   "cell_type": "markdown",
   "metadata": {},
   "source": [
    "# Data Scientist Challenge\n",
    "\n",
    "### Problem\n",
    "\n",
    "The problem consists of predicting the delay probability of flights landing or taking off from Santiago de Chile (SCL). For this purpose, we provide a dataset using public and real data where each row corresponds to a flight that landed or took off from SCL. For each flight the following information is available:\n",
    "\n",
    "- **Fecha-I** : Scheduled date and time of the flight.\n",
    "- **Vlo-I** : Programmed flight number.\n",
    "- **Ori-I** : Programmed origin city code.\n",
    "- **Des-I** : Programmed destination city code.\n",
    "- **Emp-I** : Programmed flight airline code.\n",
    "- **Fecha-O** : Date and time of flight operation.\n",
    "- **Vlo-O** : Flight operation flight number.\n",
    "- **Ori-O** : Operation origin city code.\n",
    "- **Des-O** : Operation destination city code.\n",
    "- **Emp-O** : Operation flight airline code.\n",
    "- **DIA** : Operation day of the month of the flight.\n",
    "- **MES** : Flight operation month number.\n",
    "- **AÑO** : Year of flight operation.\n",
    "- **DIANOM** : Day of week of flight operation.\n",
    "- **TIPOVUELO** : Flight type, I = International, N = National.\n",
    "- **OPERA** : Operation airline name.\n",
    "- **SIGLAORI** : Origin city name.\n",
    "- **SIGLADES** : Destination city name.\n",
    "\n",
    "\n",
    "### Challenge\n",
    "\n",
    "1. How is the data distributed? What catches your attention or what is your conclusion about this?\n",
    "\n",
    "2. Create the following additional columns then export them in a file `synthetic_features.csv`\n",
    "    - **temporada_alta** : `1` if *Fecha-I* is between December 15th and March 3rd, or July 15th and July 31th, or September 11th and September 30, `0` otherwise\n",
    "    - **dif_min** : time difference in minutes between *Fecha-O* and *Fecha-I*\n",
    "    - **atraso_15** : `1` if *dif_min* > 15, `0` otherwise\n",
    "    - **periodo_dia** : `mañana` (between 5:00 and 11:59), `tarde` (between 12:00 and 18:59) and `noche` (between 19:00 and 4:59), based on *Fecha-I*\n",
    "\n",
    "3. How is delay rate composed by destination, airline, month, day of week, season (*temporada_alta*) and flight type? What features would you expect to better predict delay?\n",
    "\n",
    "4. Train one or more models (using algorithms of your choice) to estimate the probability of flight delay. Feel free to create additional variables and/or add external variables.\n",
    "\n",
    "5. Evaluate your model. How did it perform? Which metrics did you use to evaluate it and why? Why did you choose this algorithm in particular? Which features are more important to the prediction? How would you enhance the model performance?"
   ]
  },
  {
   "cell_type": "code",
   "execution_count": 1,
   "metadata": {},
   "outputs": [],
   "source": [
    "import pandas as pd\n",
    "from datetime import datetime"
   ]
  },
  {
   "cell_type": "code",
   "execution_count": 2,
   "metadata": {},
   "outputs": [],
   "source": [
    "def translating_data(df):\n",
    "\n",
    "    days_of_week = {\n",
    "        'Lunes' : 'Monday',\n",
    "        'Martes' : 'Tuesday',\n",
    "        'Miercoles' : 'Wednesday',\n",
    "        'Jueves' : 'Thursday',\n",
    "        'Viernes' : 'Friday',\n",
    "        'Sabado' : 'Saturday',\n",
    "        'Domingo' : 'Sunday'\n",
    "    }\n",
    "\n",
    "    columns = [\n",
    "        'datetime_i', 'flight_number_i', 'origin_code_i', 'destination_code_i', 'airline_code_i',\n",
    "        'datetime_o', 'flight_number_o', 'origin_code_o', 'destination_code_o', 'airline_code_o',\n",
    "        'day', 'month', 'year', 'week_day', 'flight_type', 'airline', 'origin', 'destination'\n",
    "    ]\n",
    "\n",
    "    df.columns = columns\n",
    "    df.loc[:, 'week_day'] = df.loc[:, 'week_day'].apply(lambda x: days_of_week[x])\n",
    "\n",
    "    return df"
   ]
  },
  {
   "cell_type": "code",
   "execution_count": 3,
   "metadata": {},
   "outputs": [],
   "source": [
    "def get_treated_data():\n",
    "\n",
    "    flight_data = pd.read_csv('data/dataset_SCL.csv', parse_dates=[0, 5], low_memory=False)\n",
    "    flight_data = translating_data(flight_data)\n",
    "\n",
    "    # It's necessary to create an index that is unique to identify each flight correctly\n",
    "    flight_data['index'] = flight_data['datetime_o'].astype(str) + '_' + flight_data['flight_number_o'] + '_' +\\\n",
    "        flight_data['origin_code_o'] + '_' + flight_data['destination_code_o'] + '_' + flight_data['airline_code_o']\n",
    "    flight_data = flight_data.set_index('index')\n",
    "\n",
    "    return flight_data"
   ]
  },
  {
   "cell_type": "code",
   "execution_count": 4,
   "metadata": {},
   "outputs": [],
   "source": [
    "def creating_synthetic_features(df):\n",
    "\n",
    "    synth_df = df.copy()\n",
    "\n",
    "    # Separating date and time\n",
    "    synth_df['date_i'] = synth_df['datetime_i'].apply(lambda x: str(x.date()))\n",
    "    synth_df['time_i'] = synth_df['datetime_i'].apply(lambda x: str(x.time()))\n",
    "\n",
    "    synth_df['temporada_alta'] = synth_df['date_i'].apply(lambda x: 1 if x[5:] <= '03-03' or (x[5:] >= '07-15' and x[5:] <= '07-31') \\\n",
    "        or (x[5:] >= '09-11' and x[5:] <= '09-30') or x[5:] >= '12-15' else 0)\n",
    "\n",
    "    synth_df['dif_min'] = synth_df['datetime_o'] - synth_df['datetime_i']\n",
    "    synth_df.loc[:, 'dif_min'] = synth_df['dif_min'].apply(lambda x: x.total_seconds()/60).astype(int)\n",
    "\n",
    "    synth_df['atraso_15'] = synth_df['dif_min'] > 15\n",
    "    synth_df['atraso_15'] = synth_df['atraso_15'].astype(int)\n",
    "\n",
    "    synth_df['periodo_dia'] = synth_df['time_i'].apply(lambda x: 'mañana' if x >= '05:00:00' and x < '12:00:00' \\\n",
    "        else 'tarde' if x >= '12:00:00' and x < '19:00:00' else 'noche')\n",
    "\n",
    "    return synth_df[['temporada_alta', 'dif_min', 'atraso_15', 'periodo_dia']]"
   ]
  },
  {
   "cell_type": "code",
   "execution_count": 5,
   "metadata": {},
   "outputs": [],
   "source": [
    "def saving_synthetic_features(synth_df):\n",
    "\n",
    "    synth_df.to_csv('data/synthetic_features.csv')"
   ]
  },
  {
   "cell_type": "code",
   "execution_count": 6,
   "metadata": {},
   "outputs": [
    {
     "data": {
      "text/html": [
       "<div>\n",
       "<style scoped>\n",
       "    .dataframe tbody tr th:only-of-type {\n",
       "        vertical-align: middle;\n",
       "    }\n",
       "\n",
       "    .dataframe tbody tr th {\n",
       "        vertical-align: top;\n",
       "    }\n",
       "\n",
       "    .dataframe thead th {\n",
       "        text-align: right;\n",
       "    }\n",
       "</style>\n",
       "<table border=\"1\" class=\"dataframe\">\n",
       "  <thead>\n",
       "    <tr style=\"text-align: right;\">\n",
       "      <th></th>\n",
       "      <th>datetime_i</th>\n",
       "      <th>flight_number_i</th>\n",
       "      <th>origin_code_i</th>\n",
       "      <th>destination_code_i</th>\n",
       "      <th>airline_code_i</th>\n",
       "      <th>datetime_o</th>\n",
       "      <th>flight_number_o</th>\n",
       "      <th>origin_code_o</th>\n",
       "      <th>destination_code_o</th>\n",
       "      <th>airline_code_o</th>\n",
       "      <th>...</th>\n",
       "      <th>year</th>\n",
       "      <th>week_day</th>\n",
       "      <th>flight_type</th>\n",
       "      <th>airline</th>\n",
       "      <th>origin</th>\n",
       "      <th>destination</th>\n",
       "      <th>temporada_alta</th>\n",
       "      <th>dif_min</th>\n",
       "      <th>atraso_15</th>\n",
       "      <th>periodo_dia</th>\n",
       "    </tr>\n",
       "    <tr>\n",
       "      <th>index</th>\n",
       "      <th></th>\n",
       "      <th></th>\n",
       "      <th></th>\n",
       "      <th></th>\n",
       "      <th></th>\n",
       "      <th></th>\n",
       "      <th></th>\n",
       "      <th></th>\n",
       "      <th></th>\n",
       "      <th></th>\n",
       "      <th></th>\n",
       "      <th></th>\n",
       "      <th></th>\n",
       "      <th></th>\n",
       "      <th></th>\n",
       "      <th></th>\n",
       "      <th></th>\n",
       "      <th></th>\n",
       "      <th></th>\n",
       "      <th></th>\n",
       "      <th></th>\n",
       "    </tr>\n",
       "  </thead>\n",
       "  <tbody>\n",
       "    <tr>\n",
       "      <th>2017-01-01 23:33:00_226_SCEL_KMIA_AAL</th>\n",
       "      <td>2017-01-01 23:30:00</td>\n",
       "      <td>226</td>\n",
       "      <td>SCEL</td>\n",
       "      <td>KMIA</td>\n",
       "      <td>AAL</td>\n",
       "      <td>2017-01-01 23:33:00</td>\n",
       "      <td>226</td>\n",
       "      <td>SCEL</td>\n",
       "      <td>KMIA</td>\n",
       "      <td>AAL</td>\n",
       "      <td>...</td>\n",
       "      <td>2017</td>\n",
       "      <td>Sunday</td>\n",
       "      <td>I</td>\n",
       "      <td>American Airlines</td>\n",
       "      <td>Santiago</td>\n",
       "      <td>Miami</td>\n",
       "      <td>1</td>\n",
       "      <td>3</td>\n",
       "      <td>0</td>\n",
       "      <td>noche</td>\n",
       "    </tr>\n",
       "    <tr>\n",
       "      <th>2017-01-02 23:39:00_226_SCEL_KMIA_AAL</th>\n",
       "      <td>2017-01-02 23:30:00</td>\n",
       "      <td>226</td>\n",
       "      <td>SCEL</td>\n",
       "      <td>KMIA</td>\n",
       "      <td>AAL</td>\n",
       "      <td>2017-01-02 23:39:00</td>\n",
       "      <td>226</td>\n",
       "      <td>SCEL</td>\n",
       "      <td>KMIA</td>\n",
       "      <td>AAL</td>\n",
       "      <td>...</td>\n",
       "      <td>2017</td>\n",
       "      <td>Monday</td>\n",
       "      <td>I</td>\n",
       "      <td>American Airlines</td>\n",
       "      <td>Santiago</td>\n",
       "      <td>Miami</td>\n",
       "      <td>1</td>\n",
       "      <td>9</td>\n",
       "      <td>0</td>\n",
       "      <td>noche</td>\n",
       "    </tr>\n",
       "    <tr>\n",
       "      <th>2017-01-03 23:39:00_226_SCEL_KMIA_AAL</th>\n",
       "      <td>2017-01-03 23:30:00</td>\n",
       "      <td>226</td>\n",
       "      <td>SCEL</td>\n",
       "      <td>KMIA</td>\n",
       "      <td>AAL</td>\n",
       "      <td>2017-01-03 23:39:00</td>\n",
       "      <td>226</td>\n",
       "      <td>SCEL</td>\n",
       "      <td>KMIA</td>\n",
       "      <td>AAL</td>\n",
       "      <td>...</td>\n",
       "      <td>2017</td>\n",
       "      <td>Tuesday</td>\n",
       "      <td>I</td>\n",
       "      <td>American Airlines</td>\n",
       "      <td>Santiago</td>\n",
       "      <td>Miami</td>\n",
       "      <td>1</td>\n",
       "      <td>9</td>\n",
       "      <td>0</td>\n",
       "      <td>noche</td>\n",
       "    </tr>\n",
       "    <tr>\n",
       "      <th>2017-01-04 23:33:00_226_SCEL_KMIA_AAL</th>\n",
       "      <td>2017-01-04 23:30:00</td>\n",
       "      <td>226</td>\n",
       "      <td>SCEL</td>\n",
       "      <td>KMIA</td>\n",
       "      <td>AAL</td>\n",
       "      <td>2017-01-04 23:33:00</td>\n",
       "      <td>226</td>\n",
       "      <td>SCEL</td>\n",
       "      <td>KMIA</td>\n",
       "      <td>AAL</td>\n",
       "      <td>...</td>\n",
       "      <td>2017</td>\n",
       "      <td>Wednesday</td>\n",
       "      <td>I</td>\n",
       "      <td>American Airlines</td>\n",
       "      <td>Santiago</td>\n",
       "      <td>Miami</td>\n",
       "      <td>1</td>\n",
       "      <td>3</td>\n",
       "      <td>0</td>\n",
       "      <td>noche</td>\n",
       "    </tr>\n",
       "    <tr>\n",
       "      <th>2017-01-05 23:28:00_226_SCEL_KMIA_AAL</th>\n",
       "      <td>2017-01-05 23:30:00</td>\n",
       "      <td>226</td>\n",
       "      <td>SCEL</td>\n",
       "      <td>KMIA</td>\n",
       "      <td>AAL</td>\n",
       "      <td>2017-01-05 23:28:00</td>\n",
       "      <td>226</td>\n",
       "      <td>SCEL</td>\n",
       "      <td>KMIA</td>\n",
       "      <td>AAL</td>\n",
       "      <td>...</td>\n",
       "      <td>2017</td>\n",
       "      <td>Thursday</td>\n",
       "      <td>I</td>\n",
       "      <td>American Airlines</td>\n",
       "      <td>Santiago</td>\n",
       "      <td>Miami</td>\n",
       "      <td>1</td>\n",
       "      <td>-2</td>\n",
       "      <td>0</td>\n",
       "      <td>noche</td>\n",
       "    </tr>\n",
       "  </tbody>\n",
       "</table>\n",
       "<p>5 rows × 22 columns</p>\n",
       "</div>"
      ],
      "text/plain": [
       "                                               datetime_i flight_number_i  \\\n",
       "index                                                                       \n",
       "2017-01-01 23:33:00_226_SCEL_KMIA_AAL 2017-01-01 23:30:00             226   \n",
       "2017-01-02 23:39:00_226_SCEL_KMIA_AAL 2017-01-02 23:30:00             226   \n",
       "2017-01-03 23:39:00_226_SCEL_KMIA_AAL 2017-01-03 23:30:00             226   \n",
       "2017-01-04 23:33:00_226_SCEL_KMIA_AAL 2017-01-04 23:30:00             226   \n",
       "2017-01-05 23:28:00_226_SCEL_KMIA_AAL 2017-01-05 23:30:00             226   \n",
       "\n",
       "                                      origin_code_i destination_code_i  \\\n",
       "index                                                                    \n",
       "2017-01-01 23:33:00_226_SCEL_KMIA_AAL          SCEL               KMIA   \n",
       "2017-01-02 23:39:00_226_SCEL_KMIA_AAL          SCEL               KMIA   \n",
       "2017-01-03 23:39:00_226_SCEL_KMIA_AAL          SCEL               KMIA   \n",
       "2017-01-04 23:33:00_226_SCEL_KMIA_AAL          SCEL               KMIA   \n",
       "2017-01-05 23:28:00_226_SCEL_KMIA_AAL          SCEL               KMIA   \n",
       "\n",
       "                                      airline_code_i          datetime_o  \\\n",
       "index                                                                      \n",
       "2017-01-01 23:33:00_226_SCEL_KMIA_AAL            AAL 2017-01-01 23:33:00   \n",
       "2017-01-02 23:39:00_226_SCEL_KMIA_AAL            AAL 2017-01-02 23:39:00   \n",
       "2017-01-03 23:39:00_226_SCEL_KMIA_AAL            AAL 2017-01-03 23:39:00   \n",
       "2017-01-04 23:33:00_226_SCEL_KMIA_AAL            AAL 2017-01-04 23:33:00   \n",
       "2017-01-05 23:28:00_226_SCEL_KMIA_AAL            AAL 2017-01-05 23:28:00   \n",
       "\n",
       "                                      flight_number_o origin_code_o  \\\n",
       "index                                                                 \n",
       "2017-01-01 23:33:00_226_SCEL_KMIA_AAL             226          SCEL   \n",
       "2017-01-02 23:39:00_226_SCEL_KMIA_AAL             226          SCEL   \n",
       "2017-01-03 23:39:00_226_SCEL_KMIA_AAL             226          SCEL   \n",
       "2017-01-04 23:33:00_226_SCEL_KMIA_AAL             226          SCEL   \n",
       "2017-01-05 23:28:00_226_SCEL_KMIA_AAL             226          SCEL   \n",
       "\n",
       "                                      destination_code_o airline_code_o  ...  \\\n",
       "index                                                                    ...   \n",
       "2017-01-01 23:33:00_226_SCEL_KMIA_AAL               KMIA            AAL  ...   \n",
       "2017-01-02 23:39:00_226_SCEL_KMIA_AAL               KMIA            AAL  ...   \n",
       "2017-01-03 23:39:00_226_SCEL_KMIA_AAL               KMIA            AAL  ...   \n",
       "2017-01-04 23:33:00_226_SCEL_KMIA_AAL               KMIA            AAL  ...   \n",
       "2017-01-05 23:28:00_226_SCEL_KMIA_AAL               KMIA            AAL  ...   \n",
       "\n",
       "                                       year   week_day  flight_type  \\\n",
       "index                                                                 \n",
       "2017-01-01 23:33:00_226_SCEL_KMIA_AAL  2017     Sunday            I   \n",
       "2017-01-02 23:39:00_226_SCEL_KMIA_AAL  2017     Monday            I   \n",
       "2017-01-03 23:39:00_226_SCEL_KMIA_AAL  2017    Tuesday            I   \n",
       "2017-01-04 23:33:00_226_SCEL_KMIA_AAL  2017  Wednesday            I   \n",
       "2017-01-05 23:28:00_226_SCEL_KMIA_AAL  2017   Thursday            I   \n",
       "\n",
       "                                                 airline    origin  \\\n",
       "index                                                                \n",
       "2017-01-01 23:33:00_226_SCEL_KMIA_AAL  American Airlines  Santiago   \n",
       "2017-01-02 23:39:00_226_SCEL_KMIA_AAL  American Airlines  Santiago   \n",
       "2017-01-03 23:39:00_226_SCEL_KMIA_AAL  American Airlines  Santiago   \n",
       "2017-01-04 23:33:00_226_SCEL_KMIA_AAL  American Airlines  Santiago   \n",
       "2017-01-05 23:28:00_226_SCEL_KMIA_AAL  American Airlines  Santiago   \n",
       "\n",
       "                                      destination temporada_alta dif_min  \\\n",
       "index                                                                      \n",
       "2017-01-01 23:33:00_226_SCEL_KMIA_AAL       Miami              1       3   \n",
       "2017-01-02 23:39:00_226_SCEL_KMIA_AAL       Miami              1       9   \n",
       "2017-01-03 23:39:00_226_SCEL_KMIA_AAL       Miami              1       9   \n",
       "2017-01-04 23:33:00_226_SCEL_KMIA_AAL       Miami              1       3   \n",
       "2017-01-05 23:28:00_226_SCEL_KMIA_AAL       Miami              1      -2   \n",
       "\n",
       "                                       atraso_15  periodo_dia  \n",
       "index                                                          \n",
       "2017-01-01 23:33:00_226_SCEL_KMIA_AAL          0        noche  \n",
       "2017-01-02 23:39:00_226_SCEL_KMIA_AAL          0        noche  \n",
       "2017-01-03 23:39:00_226_SCEL_KMIA_AAL          0        noche  \n",
       "2017-01-04 23:33:00_226_SCEL_KMIA_AAL          0        noche  \n",
       "2017-01-05 23:28:00_226_SCEL_KMIA_AAL          0        noche  \n",
       "\n",
       "[5 rows x 22 columns]"
      ]
     },
     "execution_count": 6,
     "metadata": {},
     "output_type": "execute_result"
    }
   ],
   "source": [
    "df = get_treated_data()\n",
    "synth_df = creating_synthetic_features(df)\n",
    "saving_synthetic_features(synth_df)\n",
    "\n",
    "df = df.merge(right=synth_df, left_index=True, right_index=True)\n",
    "df.head()"
   ]
  },
  {
   "cell_type": "markdown",
   "metadata": {},
   "source": [
    "### Analysing the data\n",
    "\n",
    "1. How is the data distributed? What catches your attention or what is your conclusion about this?\n",
    "\n",
    "We will proceed with the data analysis using synthetic features too, in order to get more information about the dataset."
   ]
  },
  {
   "cell_type": "code",
   "execution_count": 7,
   "metadata": {},
   "outputs": [
    {
     "name": "stdout",
     "output_type": "stream",
     "text": [
      "<class 'pandas.core.frame.DataFrame'>\n",
      "Index: 68206 entries, 2017-01-01 23:33:00_226_SCEL_KMIA_AAL to 2017-12-31 15:04:00_400.0_SCEL_SPJC_JAT\n",
      "Data columns (total 22 columns):\n",
      " #   Column              Non-Null Count  Dtype         \n",
      "---  ------              --------------  -----         \n",
      " 0   datetime_i          68206 non-null  datetime64[ns]\n",
      " 1   flight_number_i     68206 non-null  object        \n",
      " 2   origin_code_i       68206 non-null  object        \n",
      " 3   destination_code_i  68206 non-null  object        \n",
      " 4   airline_code_i      68206 non-null  object        \n",
      " 5   datetime_o          68206 non-null  datetime64[ns]\n",
      " 6   flight_number_o     68205 non-null  object        \n",
      " 7   origin_code_o       68206 non-null  object        \n",
      " 8   destination_code_o  68206 non-null  object        \n",
      " 9   airline_code_o      68206 non-null  object        \n",
      " 10  day                 68206 non-null  int64         \n",
      " 11  month               68206 non-null  int64         \n",
      " 12  year                68206 non-null  int64         \n",
      " 13  week_day            68206 non-null  object        \n",
      " 14  flight_type         68206 non-null  object        \n",
      " 15  airline             68206 non-null  object        \n",
      " 16  origin              68206 non-null  object        \n",
      " 17  destination         68206 non-null  object        \n",
      " 18  temporada_alta      68206 non-null  int64         \n",
      " 19  dif_min             68206 non-null  int64         \n",
      " 20  atraso_15           68206 non-null  int64         \n",
      " 21  periodo_dia         68206 non-null  object        \n",
      "dtypes: datetime64[ns](2), int64(6), object(14)\n",
      "memory usage: 14.0+ MB\n"
     ]
    }
   ],
   "source": [
    "df.info()"
   ]
  },
  {
   "cell_type": "markdown",
   "metadata": {},
   "source": [
    "Although we did not treated missing values, there is still no missing values to be treated. This must be because all data come from reliable sources with no reasonable motive to missing data to be found.\n",
    "\n",
    "We will proceed with the analysis with the assumption that all the data is good, with no need to worry about the veracity of the information."
   ]
  },
  {
   "cell_type": "code",
   "execution_count": 26,
   "metadata": {},
   "outputs": [
    {
     "data": {
      "text/plain": [
       "flight_number_i  origin_code_i  destination_code_i  airline                 \n",
       "7                SCEL           SCCI                Sky Airline                 365\n",
       "285              SCEL           SCTE                Grupo LATAM                 364\n",
       "190              SCEL           SCAR                Sky Airline                 364\n",
       "273              SCEL           SCTE                Grupo LATAM                 364\n",
       "802              SCEL           SPJC                Sky Airline                 364\n",
       "                                                                               ... \n",
       "503              SCEL           LEMD                Plus Ultra Lineas Aereas      1\n",
       "51               SCEL           SCQP                Grupo LATAM                   1\n",
       "1186             SCEL           SCAR                Grupo LATAM                   1\n",
       "1178             SCEL           SCAR                Grupo LATAM                   1\n",
       "9956             SCEL           SPJC                Grupo LATAM                   1\n",
       "Length: 758, dtype: int64"
      ]
     },
     "execution_count": 26,
     "metadata": {},
     "output_type": "execute_result"
    }
   ],
   "source": [
    "df[['flight_number_i', 'origin_code_i', 'destination_code_i', 'airline']].value_counts()"
   ]
  },
  {
   "cell_type": "code",
   "execution_count": 27,
   "metadata": {},
   "outputs": [
    {
     "data": {
      "text/plain": [
       "<AxesSubplot:>"
      ]
     },
     "execution_count": 27,
     "metadata": {},
     "output_type": "execute_result"
    },
    {
     "data": {
      "image/png": "[encoded data removed]",
      "text/plain": [
       "<Figure size 432x288 with 1 Axes>"
      ]
     },
     "metadata": {
      "needs_background": "light"
     },
     "output_type": "display_data"
    }
   ],
   "source": [
    "df[['flight_number_i', 'origin_code_i', 'destination_code_i', 'airline']].value_counts().hist()"
   ]
  },
  {
   "cell_type": "markdown",
   "metadata": {},
   "source": [
    "Most of the flights are not so frequently. For example, the flight LATAM 9956 from SCEL to SPJC only occurs once in the dataset, while the flight Sky Airline 7 from SCEL to SCCI occurs 365 times in the dataset. Maybe the frequency of the flight might be correlated with delay, but we'll check it later."
   ]
  },
  {
   "cell_type": "code",
   "execution_count": 9,
   "metadata": {},
   "outputs": [
    {
     "data": {
      "text/plain": [
       "True     0.933745\n",
       "False    0.066255\n",
       "dtype: float64"
      ]
     },
     "execution_count": 9,
     "metadata": {},
     "output_type": "execute_result"
    }
   ],
   "source": [
    "(df['flight_number_i'] == df['flight_number_o']).value_counts(normalize=True)"
   ]
  },
  {
   "cell_type": "markdown",
   "metadata": {},
   "source": [
    "Another unexpected finding is that almost 7% of all flights have operationing flight number that is different than the schedulled (or programmed) flight number. But differently than the previous finding, this behavior may be correlated to flight delay."
   ]
  },
  {
   "cell_type": "code",
   "execution_count": 10,
   "metadata": {},
   "outputs": [
    {
     "data": {
      "text/plain": [
       "True     68178\n",
       "False       28\n",
       "dtype: int64"
      ]
     },
     "execution_count": 10,
     "metadata": {},
     "output_type": "execute_result"
    }
   ],
   "source": [
    "(df['destination_code_i'] == df['destination_code_o']).value_counts()"
   ]
  },
  {
   "cell_type": "markdown",
   "metadata": {},
   "source": [
    "Another very unexpected finding is that there are 28 flights whose destination city code is different than the programmed one. This also may be correlated to flight delay, but as it's a very rare behavior, it should not be a strong feature to predict flight delay."
   ]
  },
  {
   "cell_type": "code",
   "execution_count": 11,
   "metadata": {},
   "outputs": [
    {
     "data": {
      "text/plain": [
       "True     0.726285\n",
       "False    0.273715\n",
       "dtype: float64"
      ]
     },
     "execution_count": 11,
     "metadata": {},
     "output_type": "execute_result"
    }
   ],
   "source": [
    "(df['airline_code_i'] == df['airline_code_o']).value_counts(normalize=True)"
   ]
  },
  {
   "cell_type": "markdown",
   "metadata": {},
   "source": [
    "Yet another unexpected finding is that 27% of the flights are operated by a different airline than scheduled. We'll find later if this behavior is correlated to flight delay."
   ]
  },
  {
   "cell_type": "code",
   "execution_count": 15,
   "metadata": {},
   "outputs": [
    {
     "data": {
      "text/plain": [
       "Grupo LATAM                 0.599537\n",
       "Sky Airline                 0.209630\n",
       "Aerolineas Argentinas       0.028575\n",
       "Copa Air                    0.027124\n",
       "Latin American Wings        0.024543\n",
       "Avianca                     0.016890\n",
       "JetSmart SPA                0.016054\n",
       "Gol Trans                   0.011817\n",
       "American Airlines           0.011099\n",
       "Air Canada                  0.008284\n",
       "Iberia                      0.005307\n",
       "Delta Air                   0.005249\n",
       "Air France                  0.005249\n",
       "Aeromexico                  0.005146\n",
       "United Airlines             0.004912\n",
       "Oceanair Linhas Aereas      0.004091\n",
       "Alitalia                    0.003797\n",
       "K.L.M.                      0.003680\n",
       "British Airways             0.003006\n",
       "Qantas Airways              0.002859\n",
       "Lacsa                       0.001349\n",
       "Austral                     0.001085\n",
       "Plus Ultra Lineas Aereas    0.000718\n",
       "Name: airline, dtype: float64"
      ]
     },
     "execution_count": 15,
     "metadata": {},
     "output_type": "execute_result"
    }
   ],
   "source": [
    "df['airline'].value_counts(normalize=True)"
   ]
  },
  {
   "cell_type": "markdown",
   "metadata": {},
   "source": [
    "The vast majority of the flights are operated by south american airlines, and LATAM alone sums up to almost 60% of the flights."
   ]
  },
  {
   "cell_type": "code",
   "execution_count": 19,
   "metadata": {},
   "outputs": [
    {
     "data": {
      "text/plain": [
       "tarde     25506\n",
       "mañana    25352\n",
       "noche     17348\n",
       "Name: periodo_dia, dtype: int64"
      ]
     },
     "execution_count": 19,
     "metadata": {},
     "output_type": "execute_result"
    }
   ],
   "source": [
    "df['periodo_dia'].value_counts()"
   ]
  },
  {
   "cell_type": "markdown",
   "metadata": {},
   "source": [
    "As expected, there are less flights taking off at night"
   ]
  },
  {
   "cell_type": "code",
   "execution_count": 20,
   "metadata": {},
   "outputs": [
    {
     "data": {
      "text/plain": [
       "12    0.093188\n",
       "1     0.089552\n",
       "11    0.089142\n",
       "10    0.088438\n",
       "7     0.087852\n",
       "8     0.084215\n",
       "9     0.082251\n",
       "2     0.081532\n",
       "3     0.080374\n",
       "5     0.076826\n",
       "4     0.073601\n",
       "6     0.073029\n",
       "Name: month, dtype: float64"
      ]
     },
     "execution_count": 20,
     "metadata": {},
     "output_type": "execute_result"
    }
   ],
   "source": [
    "df['month'].value_counts(normalize=True)"
   ]
  },
  {
   "cell_type": "markdown",
   "metadata": {},
   "source": [
    "An interesting finding is that October and November have more flights in operation than February, July and September, opposed to what `temporada_alta` suggests."
   ]
  },
  {
   "cell_type": "code",
   "execution_count": 23,
   "metadata": {},
   "outputs": [
    {
     "data": {
      "text/plain": [
       "Friday       0.150896\n",
       "Thursday     0.150295\n",
       "Monday       0.148535\n",
       "Sunday       0.143624\n",
       "Wednesday    0.142539\n",
       "Tuesday      0.141659\n",
       "Saturday     0.122453\n",
       "Name: week_day, dtype: float64"
      ]
     },
     "execution_count": 23,
     "metadata": {},
     "output_type": "execute_result"
    }
   ],
   "source": [
    "df['week_day'].value_counts(normalize=True)"
   ]
  },
  {
   "cell_type": "markdown",
   "metadata": {},
   "source": [
    "There is no significant difference between days of week when comparing number of flights, except Saturday that is 15% smaller than average, but there is no reason so far to expect that this behavior is correlated to flight delay."
   ]
  },
  {
   "cell_type": "markdown",
   "metadata": {},
   "source": [
    "### Analysing the data\n",
    "\n",
    "2. Create additional columns and export them in `synthetic_features.csv`\n",
    "\n",
    "Already done in `creating_synthetic_features` and `saving_synthetic_features` functions. This file is in the folder `data`."
   ]
  },
  {
   "cell_type": "markdown",
   "metadata": {},
   "source": [
    "### Analysing the data\n",
    "\n",
    "3. How is delay rate composed by destination, airline, month, day of week, season (*temporada_alta*) and flight type? What features would you expect to better predict delay?\n"
   ]
  },
  {
   "cell_type": "code",
   "execution_count": 73,
   "metadata": {},
   "outputs": [
    {
     "data": {
      "text/html": [
       "<div>\n",
       "<style scoped>\n",
       "    .dataframe tbody tr th:only-of-type {\n",
       "        vertical-align: middle;\n",
       "    }\n",
       "\n",
       "    .dataframe tbody tr th {\n",
       "        vertical-align: top;\n",
       "    }\n",
       "\n",
       "    .dataframe thead th {\n",
       "        text-align: right;\n",
       "    }\n",
       "</style>\n",
       "<table border=\"1\" class=\"dataframe\">\n",
       "  <thead>\n",
       "    <tr style=\"text-align: right;\">\n",
       "      <th></th>\n",
       "      <th>flight_number</th>\n",
       "      <th>delay_number</th>\n",
       "      <th>delay_rate</th>\n",
       "    </tr>\n",
       "  </thead>\n",
       "  <tbody>\n",
       "    <tr>\n",
       "      <th>YSSY</th>\n",
       "      <td>195</td>\n",
       "      <td>113</td>\n",
       "      <td>57.948718</td>\n",
       "    </tr>\n",
       "    <tr>\n",
       "      <th>YMML</th>\n",
       "      <td>38</td>\n",
       "      <td>21</td>\n",
       "      <td>55.263158</td>\n",
       "    </tr>\n",
       "    <tr>\n",
       "      <th>SAAR</th>\n",
       "      <td>136</td>\n",
       "      <td>54</td>\n",
       "      <td>39.705882</td>\n",
       "    </tr>\n",
       "    <tr>\n",
       "      <th>NZAA</th>\n",
       "      <td>361</td>\n",
       "      <td>135</td>\n",
       "      <td>37.396122</td>\n",
       "    </tr>\n",
       "    <tr>\n",
       "      <th>MDPC</th>\n",
       "      <td>54</td>\n",
       "      <td>18</td>\n",
       "      <td>33.333333</td>\n",
       "    </tr>\n",
       "    <tr>\n",
       "      <th>CYYZ</th>\n",
       "      <td>283</td>\n",
       "      <td>89</td>\n",
       "      <td>31.448763</td>\n",
       "    </tr>\n",
       "    <tr>\n",
       "      <th>SACO</th>\n",
       "      <td>1023</td>\n",
       "      <td>308</td>\n",
       "      <td>30.107527</td>\n",
       "    </tr>\n",
       "    <tr>\n",
       "      <th>SGAS</th>\n",
       "      <td>232</td>\n",
       "      <td>66</td>\n",
       "      <td>28.448276</td>\n",
       "    </tr>\n",
       "    <tr>\n",
       "      <th>SBGL</th>\n",
       "      <td>1434</td>\n",
       "      <td>405</td>\n",
       "      <td>28.242678</td>\n",
       "    </tr>\n",
       "    <tr>\n",
       "      <th>SAME</th>\n",
       "      <td>1625</td>\n",
       "      <td>443</td>\n",
       "      <td>27.261538</td>\n",
       "    </tr>\n",
       "  </tbody>\n",
       "</table>\n",
       "</div>"
      ],
      "text/plain": [
       "      flight_number  delay_number  delay_rate\n",
       "YSSY            195           113   57.948718\n",
       "YMML             38            21   55.263158\n",
       "SAAR            136            54   39.705882\n",
       "NZAA            361           135   37.396122\n",
       "MDPC             54            18   33.333333\n",
       "CYYZ            283            89   31.448763\n",
       "SACO           1023           308   30.107527\n",
       "SGAS            232            66   28.448276\n",
       "SBGL           1434           405   28.242678\n",
       "SAME           1625           443   27.261538"
      ]
     },
     "execution_count": 73,
     "metadata": {},
     "output_type": "execute_result"
    }
   ],
   "source": [
    "aux_df = pd.DataFrame(index=df['destination_code_i'].unique(), columns=['flight_number', 'delay_number', 'delay_rate'])\n",
    "aux_df['flight_number'] = df[['destination_code_i', 'atraso_15']].groupby('destination_code_i').count()\n",
    "aux_df['delay_number'] = df[['destination_code_i', 'atraso_15']].groupby('destination_code_i').sum()\n",
    "aux_df['delay_rate'] =  100 * (aux_df['delay_number'] / aux_df['flight_number'])\n",
    "aux_df = aux_df.sort_values(by='delay_rate', ascending=False)\n",
    "aux_df = aux_df.loc[aux_df['flight_number'] > 30, :]\n",
    "aux_df.head(10)"
   ]
  },
  {
   "cell_type": "code",
   "execution_count": 70,
   "metadata": {},
   "outputs": [
    {
     "data": {
      "text/html": [
       "<div>\n",
       "<style scoped>\n",
       "    .dataframe tbody tr th:only-of-type {\n",
       "        vertical-align: middle;\n",
       "    }\n",
       "\n",
       "    .dataframe tbody tr th {\n",
       "        vertical-align: top;\n",
       "    }\n",
       "\n",
       "    .dataframe thead th {\n",
       "        text-align: right;\n",
       "    }\n",
       "</style>\n",
       "<table border=\"1\" class=\"dataframe\">\n",
       "  <thead>\n",
       "    <tr style=\"text-align: right;\">\n",
       "      <th></th>\n",
       "      <th>flight_number</th>\n",
       "      <th>delay_number</th>\n",
       "      <th>delay_rate</th>\n",
       "    </tr>\n",
       "  </thead>\n",
       "  <tbody>\n",
       "    <tr>\n",
       "      <th>LIRF</th>\n",
       "      <td>259</td>\n",
       "      <td>29</td>\n",
       "      <td>11.196911</td>\n",
       "    </tr>\n",
       "    <tr>\n",
       "      <th>SAZN</th>\n",
       "      <td>37</td>\n",
       "      <td>4</td>\n",
       "      <td>10.810811</td>\n",
       "    </tr>\n",
       "    <tr>\n",
       "      <th>MMMX</th>\n",
       "      <td>700</td>\n",
       "      <td>66</td>\n",
       "      <td>9.428571</td>\n",
       "    </tr>\n",
       "    <tr>\n",
       "      <th>SCNT</th>\n",
       "      <td>79</td>\n",
       "      <td>7</td>\n",
       "      <td>8.860759</td>\n",
       "    </tr>\n",
       "    <tr>\n",
       "      <th>LFPG</th>\n",
       "      <td>359</td>\n",
       "      <td>31</td>\n",
       "      <td>8.635097</td>\n",
       "    </tr>\n",
       "    <tr>\n",
       "      <th>SCPQ</th>\n",
       "      <td>235</td>\n",
       "      <td>18</td>\n",
       "      <td>7.659574</td>\n",
       "    </tr>\n",
       "    <tr>\n",
       "      <th>KDFW</th>\n",
       "      <td>357</td>\n",
       "      <td>25</td>\n",
       "      <td>7.002801</td>\n",
       "    </tr>\n",
       "    <tr>\n",
       "      <th>MPTO</th>\n",
       "      <td>1850</td>\n",
       "      <td>116</td>\n",
       "      <td>6.270270</td>\n",
       "    </tr>\n",
       "    <tr>\n",
       "      <th>KATL</th>\n",
       "      <td>358</td>\n",
       "      <td>21</td>\n",
       "      <td>5.865922</td>\n",
       "    </tr>\n",
       "    <tr>\n",
       "      <th>KIAH</th>\n",
       "      <td>335</td>\n",
       "      <td>17</td>\n",
       "      <td>5.074627</td>\n",
       "    </tr>\n",
       "  </tbody>\n",
       "</table>\n",
       "</div>"
      ],
      "text/plain": [
       "      flight_number  delay_number  delay_rate\n",
       "LIRF            259            29   11.196911\n",
       "SAZN             37             4   10.810811\n",
       "MMMX            700            66    9.428571\n",
       "SCNT             79             7    8.860759\n",
       "LFPG            359            31    8.635097\n",
       "SCPQ            235            18    7.659574\n",
       "KDFW            357            25    7.002801\n",
       "MPTO           1850           116    6.270270\n",
       "KATL            358            21    5.865922\n",
       "KIAH            335            17    5.074627"
      ]
     },
     "execution_count": 70,
     "metadata": {},
     "output_type": "execute_result"
    }
   ],
   "source": [
    "aux_df.tail(10)"
   ]
  },
  {
   "cell_type": "code",
   "execution_count": 48,
   "metadata": {},
   "outputs": [
    {
     "data": {
      "text/plain": [
       "0.03518752015951865"
      ]
     },
     "execution_count": 48,
     "metadata": {},
     "output_type": "execute_result"
    }
   ],
   "source": [
    "100*(1 - aux_df['flight_number'].sum()/len(df))"
   ]
  },
  {
   "cell_type": "code",
   "execution_count": 50,
   "metadata": {},
   "outputs": [
    {
     "data": {
      "text/plain": [
       "<AxesSubplot:>"
      ]
     },
     "execution_count": 50,
     "metadata": {},
     "output_type": "execute_result"
    },
    {
     "data": {
      "image/png": "[encoded data removed]",
      "text/plain": [
       "<Figure size 432x288 with 1 Axes>"
      ]
     },
     "metadata": {
      "needs_background": "light"
     },
     "output_type": "display_data"
    }
   ],
   "source": [
    "aux_df['delay_rate'].hist()"
   ]
  },
  {
   "cell_type": "code",
   "execution_count": null,
   "metadata": {},
   "outputs": [],
   "source": [
    "1 - aux_df[aux_df['flight_number'] > 200]['flight_number'].sum()/len(df)"
   ]
  },
  {
   "cell_type": "markdown",
   "metadata": {},
   "source": [
    "We're using `destination_code_i` because there are only 28 flights in which `destination_code_o` is different than `destination_code_i`, so the analysis and it's conclusion should be the same despite the destination code used.\n",
    "\n",
    "In order to better understand delay behavior by destination, we ignored all destination cities that receives less than 30 flights. It does not compromise the analysis as it represents only 0.03% of all flight records.\n",
    "\n",
    "We see that there are cities with almost 60% of flight delay rate. It may be an outlier, as those cities have less than 200 flight records and all cities that receives less than 200 flights sums up to only 1.7% of all flights. So we will ignore all cities that receives less than 350 flights."
   ]
  },
  {
   "cell_type": "code",
   "execution_count": 75,
   "metadata": {},
   "outputs": [
    {
     "data": {
      "text/plain": [
       "0.017153916077764397"
      ]
     },
     "execution_count": 75,
     "metadata": {},
     "output_type": "execute_result"
    }
   ],
   "source": []
  }
 ],
 "metadata": {
  "kernelspec": {
   "display_name": "Python 3.9.13 64-bit",
   "language": "python",
   "name": "python3"
  },
  "language_info": {
   "codemirror_mode": {
    "name": "ipython",
    "version": 3
   },
   "file_extension": ".py",
   "mimetype": "text/x-python",
   "name": "python",
   "nbconvert_exporter": "python",
   "pygments_lexer": "ipython3",
   "version": "3.9.13"
  },
  "orig_nbformat": 4,
  "vscode": {
   "interpreter": {
    "hash": "a665b5d41d17b532ea9890333293a1b812fa0b73c9c25c950b3cedf1bebd0438"
   }
  }
 },
 "nbformat": 4,
 "nbformat_minor": 2
}
